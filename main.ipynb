{
 "cells": [
  {
   "cell_type": "markdown",
   "id": "8ca185dca8cd6b0d",
   "metadata": {},
   "source": [
    "# SOLLDA1"
   ]
  },
  {
   "cell_type": "markdown",
   "id": "43fa319118fe9854",
   "metadata": {},
   "source": [
    "### Loading Adidas dataset"
   ]
  },
  {
   "cell_type": "code",
   "id": "cfc9bb7ada051f1c",
   "metadata": {
    "ExecuteTime": {
     "end_time": "2025-04-01T21:50:57.003188Z",
     "start_time": "2025-04-01T21:50:56.716828Z"
    }
   },
   "source": [
    "import pandas as pd\n",
    "import numpy as np\n",
    "import matplotlib.pyplot as plt\n",
    "import seaborn as sns\n",
    "import squarify\n",
    "import re\n",
    "from sklearn.ensemble import RandomForestClassifier\n",
    "from sklearn.model_selection import train_test_split\n",
    "from sklearn.preprocessing import LabelEncoder\n",
    "from sklearn.metrics import classification_report\n",
    "\n",
    "\n",
    "\n",
    "dataset_dir = \"dataset/\"\n",
    "country_dim = pd.read_csv(dataset_dir + \"country_dim.csv\")\n",
    "shoes_dim = pd.read_csv(dataset_dir + \"shoes_dim.csv\")\n",
    "shoes_fact = pd.read_csv(dataset_dir + \"shoes_fact.csv\")"
   ],
   "outputs": [],
   "execution_count": 89
  },
  {
   "cell_type": "markdown",
   "id": "661c6014",
   "metadata": {},
   "source": [
    "### Describing the Dataset"
   ]
  },
  {
   "cell_type": "markdown",
   "id": "1a62694f",
   "metadata": {},
   "source": [
    "| **Variable**        | **Description**                                      | **Example**         |\n",
    "|---------------------|------------------------------------------------------|---------------------|\n",
    "| **name**           | Model name of the shoe                               | Adidas Ultraboost  |\n",
    "| **id**             | SKU (Stock Keeping Unit)                             | FW4312             |\n",
    "| **price**          | Price in **Euros (€)**                               | 120.99             |\n",
    "| **category**       | Shoe style/type                                      | Running, Casual    |\n",
    "| **dominant_color** | Main color of the shoe                              | Black              |\n",
    "| **sub_color1**     | First accent color                                  | White              |\n",
    "| **sub_color2**     | Second accent color                                 | Red                |\n",
    "| **best_for_wear**  | Recommended occasion/use                            | Sports, Casual     |\n",
    "| **size**           | Shoe size (EU, US, UK formats)                      | EU 42, US 9, UK 8  |\n",
    "| **availability**   | Stock level (**Min: 0, Max: 15**)                    | 10                 |\n",
    "| **image_url**      | Link to the shoe image (side view)                  | *(URL to Image)*   |\n",
    "| **gender**         | Target gender (U = Unisex, W = Women, M = Men, K = Kids) | M            |\n",
    "| **date**           | Date of listing (**dd/mm/yyyy**)                     | 15/03/2025         |\n",
    "| **country_code**   | Country where the shoe is available (US, DE, UK, BE) | US                 |\n"
   ]
  },
  {
   "cell_type": "markdown",
   "id": "3e587255aa670f04",
   "metadata": {},
   "source": [
    "### Checking out the dimensions"
   ]
  },
  {
   "cell_type": "code",
   "id": "39d11f1638e564e5",
   "metadata": {
    "ExecuteTime": {
     "end_time": "2025-04-01T21:50:57.325860Z",
     "start_time": "2025-04-01T21:50:57.285591Z"
    }
   },
   "source": [
    "country_dim.info()"
   ],
   "outputs": [
    {
     "name": "stdout",
     "output_type": "stream",
     "text": [
      "<class 'pandas.core.frame.DataFrame'>\n",
      "RangeIndex: 4 entries, 0 to 3\n",
      "Data columns (total 3 columns):\n",
      " #   Column        Non-Null Count  Dtype \n",
      "---  ------        --------------  ----- \n",
      " 0   country_code  4 non-null      object\n",
      " 1   currency      4 non-null      object\n",
      " 2   shoe_metric   4 non-null      object\n",
      "dtypes: object(3)\n",
      "memory usage: 228.0+ bytes\n"
     ]
    }
   ],
   "execution_count": 90
  },
  {
   "cell_type": "code",
   "id": "bd83e8b231107962",
   "metadata": {
    "ExecuteTime": {
     "end_time": "2025-04-01T21:50:57.531339Z",
     "start_time": "2025-04-01T21:50:57.495503Z"
    }
   },
   "source": [
    "shoes_dim.info()"
   ],
   "outputs": [
    {
     "name": "stdout",
     "output_type": "stream",
     "text": [
      "<class 'pandas.core.frame.DataFrame'>\n",
      "RangeIndex: 3302 entries, 0 to 3301\n",
      "Data columns (total 8 columns):\n",
      " #   Column          Non-Null Count  Dtype \n",
      "---  ------          --------------  ----- \n",
      " 0   id              3302 non-null   object\n",
      " 1   name            3302 non-null   object\n",
      " 2   best_for_wear   3302 non-null   object\n",
      " 3   gender          3302 non-null   object\n",
      " 4   image_url       3302 non-null   object\n",
      " 5   dominant_color  3302 non-null   object\n",
      " 6   sub_color1      3300 non-null   object\n",
      " 7   sub_color2      3298 non-null   object\n",
      "dtypes: object(8)\n",
      "memory usage: 206.5+ KB\n"
     ]
    }
   ],
   "execution_count": 91
  },
  {
   "cell_type": "code",
   "id": "4a07536d809423f4",
   "metadata": {
    "ExecuteTime": {
     "end_time": "2025-04-01T21:50:57.749434Z",
     "start_time": "2025-04-01T21:50:57.699974Z"
    }
   },
   "source": [
    "shoes_fact.info()"
   ],
   "outputs": [
    {
     "name": "stdout",
     "output_type": "stream",
     "text": [
      "<class 'pandas.core.frame.DataFrame'>\n",
      "RangeIndex: 299156 entries, 0 to 299155\n",
      "Data columns (total 8 columns):\n",
      " #   Column        Non-Null Count   Dtype  \n",
      "---  ------        --------------   -----  \n",
      " 0   Unnamed: 0    299156 non-null  int64  \n",
      " 1   id            299156 non-null  object \n",
      " 2   price         299156 non-null  float64\n",
      " 3   category      299156 non-null  object \n",
      " 4   size          299156 non-null  object \n",
      " 5   availability  299156 non-null  int64  \n",
      " 6   date          299156 non-null  object \n",
      " 7   country_code  299156 non-null  object \n",
      "dtypes: float64(1), int64(2), object(5)\n",
      "memory usage: 18.3+ MB\n"
     ]
    }
   ],
   "execution_count": 92
  },
  {
   "cell_type": "markdown",
   "id": "870e6c92c145249a",
   "metadata": {},
   "source": [
    "### Merge first"
   ]
  },
  {
   "cell_type": "code",
   "id": "b3d223de13d5b1ff",
   "metadata": {
    "ExecuteTime": {
     "end_time": "2025-04-01T21:50:57.785915Z",
     "start_time": "2025-04-01T21:50:57.779846Z"
    }
   },
   "source": [
    "country_dim"
   ],
   "outputs": [
    {
     "name": "stderr",
     "output_type": "stream",
     "text": [
      "/opt/homebrew/anaconda3/lib/python3.11/site-packages/IPython/core/formatters.py:344: FutureWarning: Index.format is deprecated and will be removed in a future version. Convert using index.astype(str) or index.map(formatter) instead.\n",
      "  return method()\n",
      "/opt/homebrew/anaconda3/lib/python3.11/site-packages/IPython/core/formatters.py:344: FutureWarning: RangeIndex.format is deprecated and will be removed in a future version. Convert using index.astype(str) or index.map(formatter) instead.\n",
      "  return method()\n"
     ]
    },
    {
     "data": {
      "text/plain": [
       "  country_code currency shoe_metric\n",
       "0           DE     euro          eu\n",
       "1           US      usd         usa\n",
       "2           BE     euro          eu\n",
       "3           UK   pounds          uk"
      ],
      "text/html": [
       "<div>\n",
       "<style scoped>\n",
       "    .dataframe tbody tr th:only-of-type {\n",
       "        vertical-align: middle;\n",
       "    }\n",
       "\n",
       "    .dataframe tbody tr th {\n",
       "        vertical-align: top;\n",
       "    }\n",
       "\n",
       "    .dataframe thead th {\n",
       "        text-align: right;\n",
       "    }\n",
       "</style>\n",
       "<table border=\"1\" class=\"dataframe\">\n",
       "  <thead>\n",
       "    <tr style=\"text-align: right;\">\n",
       "      <th></th>\n",
       "      <th>country_code</th>\n",
       "      <th>currency</th>\n",
       "      <th>shoe_metric</th>\n",
       "    </tr>\n",
       "  </thead>\n",
       "  <tbody>\n",
       "    <tr>\n",
       "      <th>0</th>\n",
       "      <td>DE</td>\n",
       "      <td>euro</td>\n",
       "      <td>eu</td>\n",
       "    </tr>\n",
       "    <tr>\n",
       "      <th>1</th>\n",
       "      <td>US</td>\n",
       "      <td>usd</td>\n",
       "      <td>usa</td>\n",
       "    </tr>\n",
       "    <tr>\n",
       "      <th>2</th>\n",
       "      <td>BE</td>\n",
       "      <td>euro</td>\n",
       "      <td>eu</td>\n",
       "    </tr>\n",
       "    <tr>\n",
       "      <th>3</th>\n",
       "      <td>UK</td>\n",
       "      <td>pounds</td>\n",
       "      <td>uk</td>\n",
       "    </tr>\n",
       "  </tbody>\n",
       "</table>\n",
       "</div>"
      ]
     },
     "execution_count": 93,
     "metadata": {},
     "output_type": "execute_result"
    }
   ],
   "execution_count": 93
  },
  {
   "cell_type": "code",
   "id": "1d5ece7debbb0ba7",
   "metadata": {
    "ExecuteTime": {
     "end_time": "2025-04-01T21:50:57.862244Z",
     "start_time": "2025-04-01T21:50:57.855415Z"
    }
   },
   "source": [
    "shoes_dim.head(5)"
   ],
   "outputs": [
    {
     "name": "stderr",
     "output_type": "stream",
     "text": [
      "/opt/homebrew/anaconda3/lib/python3.11/site-packages/IPython/core/formatters.py:344: FutureWarning: Index.format is deprecated and will be removed in a future version. Convert using index.astype(str) or index.map(formatter) instead.\n",
      "  return method()\n",
      "/opt/homebrew/anaconda3/lib/python3.11/site-packages/IPython/core/formatters.py:344: FutureWarning: RangeIndex.format is deprecated and will be removed in a future version. Convert using index.astype(str) or index.map(formatter) instead.\n",
      "  return method()\n"
     ]
    },
    {
     "data": {
      "text/plain": [
       "       id                         name best_for_wear gender  \\\n",
       "0  HP9426           Breaknet 2.0 Schuh          City      U   \n",
       "1  HQ4199     Ultraboost 1.0 Laufschuh          City      U   \n",
       "2  JQ2552  Adizero Boston 12 Laufschuh        Racing      U   \n",
       "3  JI1896                  NY 90 Schuh       Neutral      U   \n",
       "4  IE8976     Ultraboost 1.0 Laufschuh       Neutral      U   \n",
       "\n",
       "                                           image_url dominant_color  \\\n",
       "0  https://assets.adidas.com/images/w_600,f_auto,...    Cloud White   \n",
       "1  https://assets.adidas.com/images/w_600,f_auto,...     Core Black   \n",
       "2  https://assets.adidas.com/images/w_600,f_auto,...    Cloud White   \n",
       "3  https://assets.adidas.com/images/w_600,f_auto,...    Cloud White   \n",
       "4  https://assets.adidas.com/images/w_600,f_auto,...       Grey One   \n",
       "\n",
       "    sub_color1     sub_color2  \n",
       "0   Core Black    Cloud White  \n",
       "1   Core Black     Beam Green  \n",
       "2   Core Black      Lucid Red  \n",
       "3  Cloud White  Crystal White  \n",
       "4   Grey Three       Grey One  "
      ],
      "text/html": [
       "<div>\n",
       "<style scoped>\n",
       "    .dataframe tbody tr th:only-of-type {\n",
       "        vertical-align: middle;\n",
       "    }\n",
       "\n",
       "    .dataframe tbody tr th {\n",
       "        vertical-align: top;\n",
       "    }\n",
       "\n",
       "    .dataframe thead th {\n",
       "        text-align: right;\n",
       "    }\n",
       "</style>\n",
       "<table border=\"1\" class=\"dataframe\">\n",
       "  <thead>\n",
       "    <tr style=\"text-align: right;\">\n",
       "      <th></th>\n",
       "      <th>id</th>\n",
       "      <th>name</th>\n",
       "      <th>best_for_wear</th>\n",
       "      <th>gender</th>\n",
       "      <th>image_url</th>\n",
       "      <th>dominant_color</th>\n",
       "      <th>sub_color1</th>\n",
       "      <th>sub_color2</th>\n",
       "    </tr>\n",
       "  </thead>\n",
       "  <tbody>\n",
       "    <tr>\n",
       "      <th>0</th>\n",
       "      <td>HP9426</td>\n",
       "      <td>Breaknet 2.0 Schuh</td>\n",
       "      <td>City</td>\n",
       "      <td>U</td>\n",
       "      <td>https://assets.adidas.com/images/w_600,f_auto,...</td>\n",
       "      <td>Cloud White</td>\n",
       "      <td>Core Black</td>\n",
       "      <td>Cloud White</td>\n",
       "    </tr>\n",
       "    <tr>\n",
       "      <th>1</th>\n",
       "      <td>HQ4199</td>\n",
       "      <td>Ultraboost 1.0 Laufschuh</td>\n",
       "      <td>City</td>\n",
       "      <td>U</td>\n",
       "      <td>https://assets.adidas.com/images/w_600,f_auto,...</td>\n",
       "      <td>Core Black</td>\n",
       "      <td>Core Black</td>\n",
       "      <td>Beam Green</td>\n",
       "    </tr>\n",
       "    <tr>\n",
       "      <th>2</th>\n",
       "      <td>JQ2552</td>\n",
       "      <td>Adizero Boston 12 Laufschuh</td>\n",
       "      <td>Racing</td>\n",
       "      <td>U</td>\n",
       "      <td>https://assets.adidas.com/images/w_600,f_auto,...</td>\n",
       "      <td>Cloud White</td>\n",
       "      <td>Core Black</td>\n",
       "      <td>Lucid Red</td>\n",
       "    </tr>\n",
       "    <tr>\n",
       "      <th>3</th>\n",
       "      <td>JI1896</td>\n",
       "      <td>NY 90 Schuh</td>\n",
       "      <td>Neutral</td>\n",
       "      <td>U</td>\n",
       "      <td>https://assets.adidas.com/images/w_600,f_auto,...</td>\n",
       "      <td>Cloud White</td>\n",
       "      <td>Cloud White</td>\n",
       "      <td>Crystal White</td>\n",
       "    </tr>\n",
       "    <tr>\n",
       "      <th>4</th>\n",
       "      <td>IE8976</td>\n",
       "      <td>Ultraboost 1.0 Laufschuh</td>\n",
       "      <td>Neutral</td>\n",
       "      <td>U</td>\n",
       "      <td>https://assets.adidas.com/images/w_600,f_auto,...</td>\n",
       "      <td>Grey One</td>\n",
       "      <td>Grey Three</td>\n",
       "      <td>Grey One</td>\n",
       "    </tr>\n",
       "  </tbody>\n",
       "</table>\n",
       "</div>"
      ]
     },
     "execution_count": 94,
     "metadata": {},
     "output_type": "execute_result"
    }
   ],
   "execution_count": 94
  },
  {
   "cell_type": "code",
   "id": "1e6a7be092593698",
   "metadata": {
    "ExecuteTime": {
     "end_time": "2025-04-01T21:50:57.954413Z",
     "start_time": "2025-04-01T21:50:57.948164Z"
    }
   },
   "source": [
    "shoes_fact.rename(columns={\"Unnamed: 0\" : \"SN\"}, inplace=True)\n",
    "shoes_fact.head(5)"
   ],
   "outputs": [
    {
     "name": "stderr",
     "output_type": "stream",
     "text": [
      "/opt/homebrew/anaconda3/lib/python3.11/site-packages/IPython/core/formatters.py:344: FutureWarning: Index.format is deprecated and will be removed in a future version. Convert using index.astype(str) or index.map(formatter) instead.\n",
      "  return method()\n",
      "/opt/homebrew/anaconda3/lib/python3.11/site-packages/IPython/core/formatters.py:344: FutureWarning: RangeIndex.format is deprecated and will be removed in a future version. Convert using index.astype(str) or index.map(formatter) instead.\n",
      "  return method()\n"
     ]
    },
    {
     "data": {
      "text/plain": [
       "      SN      id  price  category    size  availability        date  \\\n",
       "0  63575  HP9426   60.0  sneakers      36             0  07/01/2025   \n",
       "1  63576  HP9426   60.0  sneakers  36 2/3             0  07/01/2025   \n",
       "2  63577  HP9426   60.0  sneakers  37 1/3             0  07/01/2025   \n",
       "3  63578  HP9426   60.0  sneakers      38             0  07/01/2025   \n",
       "4  63579  HP9426   60.0  sneakers  38 2/3             1  07/01/2025   \n",
       "\n",
       "  country_code  \n",
       "0           DE  \n",
       "1           DE  \n",
       "2           DE  \n",
       "3           DE  \n",
       "4           DE  "
      ],
      "text/html": [
       "<div>\n",
       "<style scoped>\n",
       "    .dataframe tbody tr th:only-of-type {\n",
       "        vertical-align: middle;\n",
       "    }\n",
       "\n",
       "    .dataframe tbody tr th {\n",
       "        vertical-align: top;\n",
       "    }\n",
       "\n",
       "    .dataframe thead th {\n",
       "        text-align: right;\n",
       "    }\n",
       "</style>\n",
       "<table border=\"1\" class=\"dataframe\">\n",
       "  <thead>\n",
       "    <tr style=\"text-align: right;\">\n",
       "      <th></th>\n",
       "      <th>SN</th>\n",
       "      <th>id</th>\n",
       "      <th>price</th>\n",
       "      <th>category</th>\n",
       "      <th>size</th>\n",
       "      <th>availability</th>\n",
       "      <th>date</th>\n",
       "      <th>country_code</th>\n",
       "    </tr>\n",
       "  </thead>\n",
       "  <tbody>\n",
       "    <tr>\n",
       "      <th>0</th>\n",
       "      <td>63575</td>\n",
       "      <td>HP9426</td>\n",
       "      <td>60.0</td>\n",
       "      <td>sneakers</td>\n",
       "      <td>36</td>\n",
       "      <td>0</td>\n",
       "      <td>07/01/2025</td>\n",
       "      <td>DE</td>\n",
       "    </tr>\n",
       "    <tr>\n",
       "      <th>1</th>\n",
       "      <td>63576</td>\n",
       "      <td>HP9426</td>\n",
       "      <td>60.0</td>\n",
       "      <td>sneakers</td>\n",
       "      <td>36 2/3</td>\n",
       "      <td>0</td>\n",
       "      <td>07/01/2025</td>\n",
       "      <td>DE</td>\n",
       "    </tr>\n",
       "    <tr>\n",
       "      <th>2</th>\n",
       "      <td>63577</td>\n",
       "      <td>HP9426</td>\n",
       "      <td>60.0</td>\n",
       "      <td>sneakers</td>\n",
       "      <td>37 1/3</td>\n",
       "      <td>0</td>\n",
       "      <td>07/01/2025</td>\n",
       "      <td>DE</td>\n",
       "    </tr>\n",
       "    <tr>\n",
       "      <th>3</th>\n",
       "      <td>63578</td>\n",
       "      <td>HP9426</td>\n",
       "      <td>60.0</td>\n",
       "      <td>sneakers</td>\n",
       "      <td>38</td>\n",
       "      <td>0</td>\n",
       "      <td>07/01/2025</td>\n",
       "      <td>DE</td>\n",
       "    </tr>\n",
       "    <tr>\n",
       "      <th>4</th>\n",
       "      <td>63579</td>\n",
       "      <td>HP9426</td>\n",
       "      <td>60.0</td>\n",
       "      <td>sneakers</td>\n",
       "      <td>38 2/3</td>\n",
       "      <td>1</td>\n",
       "      <td>07/01/2025</td>\n",
       "      <td>DE</td>\n",
       "    </tr>\n",
       "  </tbody>\n",
       "</table>\n",
       "</div>"
      ]
     },
     "execution_count": 95,
     "metadata": {},
     "output_type": "execute_result"
    }
   ],
   "execution_count": 95
  },
  {
   "cell_type": "code",
   "id": "856d048c8ba22332",
   "metadata": {
    "ExecuteTime": {
     "end_time": "2025-04-01T21:50:58.043338Z",
     "start_time": "2025-04-01T21:50:58.039128Z"
    }
   },
   "source": [
    "#drop duplicates from shoes_dim, keep the first\n",
    "shoes_dim.drop_duplicates(subset=\"id\", keep=\"first\", inplace=True)"
   ],
   "outputs": [],
   "execution_count": 96
  },
  {
   "cell_type": "code",
   "id": "d44c69cda306e2d0",
   "metadata": {
    "ExecuteTime": {
     "end_time": "2025-04-01T21:50:58.266538Z",
     "start_time": "2025-04-01T21:50:58.177270Z"
    }
   },
   "source": [
    "shoes_fact = pd.merge(shoes_fact, shoes_dim, on=\"id\", suffixes=('_shoes_fact', '_shoes_dim'))\n",
    "shoes_fact.columns\n"
   ],
   "outputs": [
    {
     "data": {
      "text/plain": [
       "Index(['SN', 'id', 'price', 'category', 'size', 'availability', 'date',\n",
       "       'country_code', 'name', 'best_for_wear', 'gender', 'image_url',\n",
       "       'dominant_color', 'sub_color1', 'sub_color2'],\n",
       "      dtype='object')"
      ]
     },
     "execution_count": 97,
     "metadata": {},
     "output_type": "execute_result"
    }
   ],
   "execution_count": 97
  },
  {
   "cell_type": "code",
   "id": "72f4f4c1ecf06c70",
   "metadata": {
    "ExecuteTime": {
     "end_time": "2025-04-01T21:50:58.281017Z",
     "start_time": "2025-04-01T21:50:58.274540Z"
    }
   },
   "source": [
    "shoes_fact.head(5)"
   ],
   "outputs": [
    {
     "name": "stderr",
     "output_type": "stream",
     "text": [
      "/opt/homebrew/anaconda3/lib/python3.11/site-packages/IPython/core/formatters.py:344: FutureWarning: Index.format is deprecated and will be removed in a future version. Convert using index.astype(str) or index.map(formatter) instead.\n",
      "  return method()\n",
      "/opt/homebrew/anaconda3/lib/python3.11/site-packages/IPython/core/formatters.py:344: FutureWarning: RangeIndex.format is deprecated and will be removed in a future version. Convert using index.astype(str) or index.map(formatter) instead.\n",
      "  return method()\n"
     ]
    },
    {
     "data": {
      "text/plain": [
       "      SN      id  price  category    size  availability        date  \\\n",
       "0  63575  HP9426   60.0  sneakers      36             0  07/01/2025   \n",
       "1  63576  HP9426   60.0  sneakers  36 2/3             0  07/01/2025   \n",
       "2  63577  HP9426   60.0  sneakers  37 1/3             0  07/01/2025   \n",
       "3  63578  HP9426   60.0  sneakers      38             0  07/01/2025   \n",
       "4  63579  HP9426   60.0  sneakers  38 2/3             1  07/01/2025   \n",
       "\n",
       "  country_code                name best_for_wear gender  \\\n",
       "0           DE  Breaknet 2.0 Schuh          City      U   \n",
       "1           DE  Breaknet 2.0 Schuh          City      U   \n",
       "2           DE  Breaknet 2.0 Schuh          City      U   \n",
       "3           DE  Breaknet 2.0 Schuh          City      U   \n",
       "4           DE  Breaknet 2.0 Schuh          City      U   \n",
       "\n",
       "                                           image_url dominant_color  \\\n",
       "0  https://assets.adidas.com/images/w_600,f_auto,...    Cloud White   \n",
       "1  https://assets.adidas.com/images/w_600,f_auto,...    Cloud White   \n",
       "2  https://assets.adidas.com/images/w_600,f_auto,...    Cloud White   \n",
       "3  https://assets.adidas.com/images/w_600,f_auto,...    Cloud White   \n",
       "4  https://assets.adidas.com/images/w_600,f_auto,...    Cloud White   \n",
       "\n",
       "   sub_color1   sub_color2  \n",
       "0  Core Black  Cloud White  \n",
       "1  Core Black  Cloud White  \n",
       "2  Core Black  Cloud White  \n",
       "3  Core Black  Cloud White  \n",
       "4  Core Black  Cloud White  "
      ],
      "text/html": [
       "<div>\n",
       "<style scoped>\n",
       "    .dataframe tbody tr th:only-of-type {\n",
       "        vertical-align: middle;\n",
       "    }\n",
       "\n",
       "    .dataframe tbody tr th {\n",
       "        vertical-align: top;\n",
       "    }\n",
       "\n",
       "    .dataframe thead th {\n",
       "        text-align: right;\n",
       "    }\n",
       "</style>\n",
       "<table border=\"1\" class=\"dataframe\">\n",
       "  <thead>\n",
       "    <tr style=\"text-align: right;\">\n",
       "      <th></th>\n",
       "      <th>SN</th>\n",
       "      <th>id</th>\n",
       "      <th>price</th>\n",
       "      <th>category</th>\n",
       "      <th>size</th>\n",
       "      <th>availability</th>\n",
       "      <th>date</th>\n",
       "      <th>country_code</th>\n",
       "      <th>name</th>\n",
       "      <th>best_for_wear</th>\n",
       "      <th>gender</th>\n",
       "      <th>image_url</th>\n",
       "      <th>dominant_color</th>\n",
       "      <th>sub_color1</th>\n",
       "      <th>sub_color2</th>\n",
       "    </tr>\n",
       "  </thead>\n",
       "  <tbody>\n",
       "    <tr>\n",
       "      <th>0</th>\n",
       "      <td>63575</td>\n",
       "      <td>HP9426</td>\n",
       "      <td>60.0</td>\n",
       "      <td>sneakers</td>\n",
       "      <td>36</td>\n",
       "      <td>0</td>\n",
       "      <td>07/01/2025</td>\n",
       "      <td>DE</td>\n",
       "      <td>Breaknet 2.0 Schuh</td>\n",
       "      <td>City</td>\n",
       "      <td>U</td>\n",
       "      <td>https://assets.adidas.com/images/w_600,f_auto,...</td>\n",
       "      <td>Cloud White</td>\n",
       "      <td>Core Black</td>\n",
       "      <td>Cloud White</td>\n",
       "    </tr>\n",
       "    <tr>\n",
       "      <th>1</th>\n",
       "      <td>63576</td>\n",
       "      <td>HP9426</td>\n",
       "      <td>60.0</td>\n",
       "      <td>sneakers</td>\n",
       "      <td>36 2/3</td>\n",
       "      <td>0</td>\n",
       "      <td>07/01/2025</td>\n",
       "      <td>DE</td>\n",
       "      <td>Breaknet 2.0 Schuh</td>\n",
       "      <td>City</td>\n",
       "      <td>U</td>\n",
       "      <td>https://assets.adidas.com/images/w_600,f_auto,...</td>\n",
       "      <td>Cloud White</td>\n",
       "      <td>Core Black</td>\n",
       "      <td>Cloud White</td>\n",
       "    </tr>\n",
       "    <tr>\n",
       "      <th>2</th>\n",
       "      <td>63577</td>\n",
       "      <td>HP9426</td>\n",
       "      <td>60.0</td>\n",
       "      <td>sneakers</td>\n",
       "      <td>37 1/3</td>\n",
       "      <td>0</td>\n",
       "      <td>07/01/2025</td>\n",
       "      <td>DE</td>\n",
       "      <td>Breaknet 2.0 Schuh</td>\n",
       "      <td>City</td>\n",
       "      <td>U</td>\n",
       "      <td>https://assets.adidas.com/images/w_600,f_auto,...</td>\n",
       "      <td>Cloud White</td>\n",
       "      <td>Core Black</td>\n",
       "      <td>Cloud White</td>\n",
       "    </tr>\n",
       "    <tr>\n",
       "      <th>3</th>\n",
       "      <td>63578</td>\n",
       "      <td>HP9426</td>\n",
       "      <td>60.0</td>\n",
       "      <td>sneakers</td>\n",
       "      <td>38</td>\n",
       "      <td>0</td>\n",
       "      <td>07/01/2025</td>\n",
       "      <td>DE</td>\n",
       "      <td>Breaknet 2.0 Schuh</td>\n",
       "      <td>City</td>\n",
       "      <td>U</td>\n",
       "      <td>https://assets.adidas.com/images/w_600,f_auto,...</td>\n",
       "      <td>Cloud White</td>\n",
       "      <td>Core Black</td>\n",
       "      <td>Cloud White</td>\n",
       "    </tr>\n",
       "    <tr>\n",
       "      <th>4</th>\n",
       "      <td>63579</td>\n",
       "      <td>HP9426</td>\n",
       "      <td>60.0</td>\n",
       "      <td>sneakers</td>\n",
       "      <td>38 2/3</td>\n",
       "      <td>1</td>\n",
       "      <td>07/01/2025</td>\n",
       "      <td>DE</td>\n",
       "      <td>Breaknet 2.0 Schuh</td>\n",
       "      <td>City</td>\n",
       "      <td>U</td>\n",
       "      <td>https://assets.adidas.com/images/w_600,f_auto,...</td>\n",
       "      <td>Cloud White</td>\n",
       "      <td>Core Black</td>\n",
       "      <td>Cloud White</td>\n",
       "    </tr>\n",
       "  </tbody>\n",
       "</table>\n",
       "</div>"
      ]
     },
     "execution_count": 98,
     "metadata": {},
     "output_type": "execute_result"
    }
   ],
   "execution_count": 98
  },
  {
   "cell_type": "code",
   "id": "96e5e0038aaa51bd",
   "metadata": {
    "ExecuteTime": {
     "end_time": "2025-04-01T21:50:58.515263Z",
     "start_time": "2025-04-01T21:50:58.407107Z"
    }
   },
   "source": [
    "shoes_fact = pd.merge(shoes_fact, country_dim, on=\"country_code\", suffixes=('_shoes_fact', '_country_dim'))"
   ],
   "outputs": [],
   "execution_count": 99
  },
  {
   "cell_type": "code",
   "id": "57ff25a8283eb251",
   "metadata": {
    "ExecuteTime": {
     "end_time": "2025-04-01T21:50:58.532408Z",
     "start_time": "2025-04-01T21:50:58.525791Z"
    }
   },
   "source": [
    "shoes_fact.head(5)"
   ],
   "outputs": [
    {
     "name": "stderr",
     "output_type": "stream",
     "text": [
      "/opt/homebrew/anaconda3/lib/python3.11/site-packages/IPython/core/formatters.py:344: FutureWarning: Index.format is deprecated and will be removed in a future version. Convert using index.astype(str) or index.map(formatter) instead.\n",
      "  return method()\n",
      "/opt/homebrew/anaconda3/lib/python3.11/site-packages/IPython/core/formatters.py:344: FutureWarning: RangeIndex.format is deprecated and will be removed in a future version. Convert using index.astype(str) or index.map(formatter) instead.\n",
      "  return method()\n"
     ]
    },
    {
     "data": {
      "text/plain": [
       "      SN      id  price  category    size  availability        date  \\\n",
       "0  63575  HP9426   60.0  sneakers      36             0  07/01/2025   \n",
       "1  63576  HP9426   60.0  sneakers  36 2/3             0  07/01/2025   \n",
       "2  63577  HP9426   60.0  sneakers  37 1/3             0  07/01/2025   \n",
       "3  63578  HP9426   60.0  sneakers      38             0  07/01/2025   \n",
       "4  63579  HP9426   60.0  sneakers  38 2/3             1  07/01/2025   \n",
       "\n",
       "  country_code                name best_for_wear gender  \\\n",
       "0           DE  Breaknet 2.0 Schuh          City      U   \n",
       "1           DE  Breaknet 2.0 Schuh          City      U   \n",
       "2           DE  Breaknet 2.0 Schuh          City      U   \n",
       "3           DE  Breaknet 2.0 Schuh          City      U   \n",
       "4           DE  Breaknet 2.0 Schuh          City      U   \n",
       "\n",
       "                                           image_url dominant_color  \\\n",
       "0  https://assets.adidas.com/images/w_600,f_auto,...    Cloud White   \n",
       "1  https://assets.adidas.com/images/w_600,f_auto,...    Cloud White   \n",
       "2  https://assets.adidas.com/images/w_600,f_auto,...    Cloud White   \n",
       "3  https://assets.adidas.com/images/w_600,f_auto,...    Cloud White   \n",
       "4  https://assets.adidas.com/images/w_600,f_auto,...    Cloud White   \n",
       "\n",
       "   sub_color1   sub_color2 currency shoe_metric  \n",
       "0  Core Black  Cloud White     euro          eu  \n",
       "1  Core Black  Cloud White     euro          eu  \n",
       "2  Core Black  Cloud White     euro          eu  \n",
       "3  Core Black  Cloud White     euro          eu  \n",
       "4  Core Black  Cloud White     euro          eu  "
      ],
      "text/html": [
       "<div>\n",
       "<style scoped>\n",
       "    .dataframe tbody tr th:only-of-type {\n",
       "        vertical-align: middle;\n",
       "    }\n",
       "\n",
       "    .dataframe tbody tr th {\n",
       "        vertical-align: top;\n",
       "    }\n",
       "\n",
       "    .dataframe thead th {\n",
       "        text-align: right;\n",
       "    }\n",
       "</style>\n",
       "<table border=\"1\" class=\"dataframe\">\n",
       "  <thead>\n",
       "    <tr style=\"text-align: right;\">\n",
       "      <th></th>\n",
       "      <th>SN</th>\n",
       "      <th>id</th>\n",
       "      <th>price</th>\n",
       "      <th>category</th>\n",
       "      <th>size</th>\n",
       "      <th>availability</th>\n",
       "      <th>date</th>\n",
       "      <th>country_code</th>\n",
       "      <th>name</th>\n",
       "      <th>best_for_wear</th>\n",
       "      <th>gender</th>\n",
       "      <th>image_url</th>\n",
       "      <th>dominant_color</th>\n",
       "      <th>sub_color1</th>\n",
       "      <th>sub_color2</th>\n",
       "      <th>currency</th>\n",
       "      <th>shoe_metric</th>\n",
       "    </tr>\n",
       "  </thead>\n",
       "  <tbody>\n",
       "    <tr>\n",
       "      <th>0</th>\n",
       "      <td>63575</td>\n",
       "      <td>HP9426</td>\n",
       "      <td>60.0</td>\n",
       "      <td>sneakers</td>\n",
       "      <td>36</td>\n",
       "      <td>0</td>\n",
       "      <td>07/01/2025</td>\n",
       "      <td>DE</td>\n",
       "      <td>Breaknet 2.0 Schuh</td>\n",
       "      <td>City</td>\n",
       "      <td>U</td>\n",
       "      <td>https://assets.adidas.com/images/w_600,f_auto,...</td>\n",
       "      <td>Cloud White</td>\n",
       "      <td>Core Black</td>\n",
       "      <td>Cloud White</td>\n",
       "      <td>euro</td>\n",
       "      <td>eu</td>\n",
       "    </tr>\n",
       "    <tr>\n",
       "      <th>1</th>\n",
       "      <td>63576</td>\n",
       "      <td>HP9426</td>\n",
       "      <td>60.0</td>\n",
       "      <td>sneakers</td>\n",
       "      <td>36 2/3</td>\n",
       "      <td>0</td>\n",
       "      <td>07/01/2025</td>\n",
       "      <td>DE</td>\n",
       "      <td>Breaknet 2.0 Schuh</td>\n",
       "      <td>City</td>\n",
       "      <td>U</td>\n",
       "      <td>https://assets.adidas.com/images/w_600,f_auto,...</td>\n",
       "      <td>Cloud White</td>\n",
       "      <td>Core Black</td>\n",
       "      <td>Cloud White</td>\n",
       "      <td>euro</td>\n",
       "      <td>eu</td>\n",
       "    </tr>\n",
       "    <tr>\n",
       "      <th>2</th>\n",
       "      <td>63577</td>\n",
       "      <td>HP9426</td>\n",
       "      <td>60.0</td>\n",
       "      <td>sneakers</td>\n",
       "      <td>37 1/3</td>\n",
       "      <td>0</td>\n",
       "      <td>07/01/2025</td>\n",
       "      <td>DE</td>\n",
       "      <td>Breaknet 2.0 Schuh</td>\n",
       "      <td>City</td>\n",
       "      <td>U</td>\n",
       "      <td>https://assets.adidas.com/images/w_600,f_auto,...</td>\n",
       "      <td>Cloud White</td>\n",
       "      <td>Core Black</td>\n",
       "      <td>Cloud White</td>\n",
       "      <td>euro</td>\n",
       "      <td>eu</td>\n",
       "    </tr>\n",
       "    <tr>\n",
       "      <th>3</th>\n",
       "      <td>63578</td>\n",
       "      <td>HP9426</td>\n",
       "      <td>60.0</td>\n",
       "      <td>sneakers</td>\n",
       "      <td>38</td>\n",
       "      <td>0</td>\n",
       "      <td>07/01/2025</td>\n",
       "      <td>DE</td>\n",
       "      <td>Breaknet 2.0 Schuh</td>\n",
       "      <td>City</td>\n",
       "      <td>U</td>\n",
       "      <td>https://assets.adidas.com/images/w_600,f_auto,...</td>\n",
       "      <td>Cloud White</td>\n",
       "      <td>Core Black</td>\n",
       "      <td>Cloud White</td>\n",
       "      <td>euro</td>\n",
       "      <td>eu</td>\n",
       "    </tr>\n",
       "    <tr>\n",
       "      <th>4</th>\n",
       "      <td>63579</td>\n",
       "      <td>HP9426</td>\n",
       "      <td>60.0</td>\n",
       "      <td>sneakers</td>\n",
       "      <td>38 2/3</td>\n",
       "      <td>1</td>\n",
       "      <td>07/01/2025</td>\n",
       "      <td>DE</td>\n",
       "      <td>Breaknet 2.0 Schuh</td>\n",
       "      <td>City</td>\n",
       "      <td>U</td>\n",
       "      <td>https://assets.adidas.com/images/w_600,f_auto,...</td>\n",
       "      <td>Cloud White</td>\n",
       "      <td>Core Black</td>\n",
       "      <td>Cloud White</td>\n",
       "      <td>euro</td>\n",
       "      <td>eu</td>\n",
       "    </tr>\n",
       "  </tbody>\n",
       "</table>\n",
       "</div>"
      ]
     },
     "execution_count": 100,
     "metadata": {},
     "output_type": "execute_result"
    }
   ],
   "execution_count": 100
  },
  {
   "cell_type": "code",
   "id": "7f680328a832f440",
   "metadata": {
    "ExecuteTime": {
     "end_time": "2025-04-01T21:50:58.609023Z",
     "start_time": "2025-04-01T21:50:58.573849Z"
    }
   },
   "source": [
    "#drop image_url\n",
    "shoes_fact.drop( columns=[\"image_url\"], inplace=True)"
   ],
   "outputs": [],
   "execution_count": 101
  },
  {
   "cell_type": "code",
   "id": "5b144d5ce58dbfe6",
   "metadata": {
    "ExecuteTime": {
     "end_time": "2025-04-01T21:50:58.841725Z",
     "start_time": "2025-04-01T21:50:58.714Z"
    }
   },
   "source": [
    "\n",
    "print(shoes_fact[\"category\"].value_counts())\n",
    "shoes_fact.loc[shoes_fact[\"category\"] == \"us/soccer-shoes\", \"category\"] = \"football-shoes\"\n",
    "shoes_fact.loc[shoes_fact[\"category\"] == \"us/walking-shoes\", \"category\"] = \"walking-shoes\"\n",
    "shoes_fact.loc[shoes_fact[\"category\"] == \"us/athletic_sneakers\", \"category\"] = \"athletic_sneakers\"\n",
    "shoes_fact.loc[shoes_fact[\"category\"] == \"us/running-shoes\", \"category\"] = \"running-shoes\"\n",
    "shoes_fact.loc[shoes_fact[\"category\"] == \"us/workout-shoes\", \"category\"] = \"gym_training-shoes\"\n",
    "shoes_fact.loc[shoes_fact[\"category\"] == \"us/hiking-shoes\", \"category\"] = \"hiking-shoes\"\n",
    "shoes_fact.loc[shoes_fact[\"category\"] == \"us/tennis-shoes\", \"category\"] = \"tennis-shoes\"\n",
    "#check if the transformation was successful\n",
    "shoes_fact[\"category\"].value_counts()"
   ],
   "outputs": [
    {
     "name": "stdout",
     "output_type": "stream",
     "text": [
      "category\n",
      "running-shoes           78955\n",
      "sneakers                74676\n",
      "outdoor-shoes           44314\n",
      "walking-shoes           31583\n",
      "us/athletic_sneakers    20183\n",
      "athletic_sneakers       10191\n",
      "tennis-shoes             9518\n",
      "gym_training-shoes       7911\n",
      "football-shoes           4518\n",
      "us/walking-shoes         4157\n",
      "us/running-shoes         3896\n",
      "us/soccer-shoes          3789\n",
      "occer-shoes              2063\n",
      "us/workout-shoes         1402\n",
      "us/hiking-shoes           863\n",
      "hiking-shoes              863\n",
      "us/tennis-shoes           274\n",
      "Name: count, dtype: int64\n"
     ]
    },
    {
     "data": {
      "text/plain": [
       "category\n",
       "running-shoes         82851\n",
       "sneakers              74676\n",
       "outdoor-shoes         44314\n",
       "walking-shoes         35740\n",
       "athletic_sneakers     30374\n",
       "tennis-shoes           9792\n",
       "gym_training-shoes     9313\n",
       "football-shoes         8307\n",
       "occer-shoes            2063\n",
       "hiking-shoes           1726\n",
       "Name: count, dtype: int64"
      ]
     },
     "execution_count": 102,
     "metadata": {},
     "output_type": "execute_result"
    }
   ],
   "execution_count": 102
  },
  {
   "cell_type": "code",
   "id": "396ed005f145c63b",
   "metadata": {
    "ExecuteTime": {
     "end_time": "2025-04-01T21:50:58.942598Z",
     "start_time": "2025-04-01T21:50:58.844238Z"
    }
   },
   "source": [
    "shoes_fact[shoes_fact[\"size\"].str.contains(\"1/3|2/3\")].head(5)"
   ],
   "outputs": [
    {
     "name": "stderr",
     "output_type": "stream",
     "text": [
      "/opt/homebrew/anaconda3/lib/python3.11/site-packages/IPython/core/formatters.py:344: FutureWarning: Index.format is deprecated and will be removed in a future version. Convert using index.astype(str) or index.map(formatter) instead.\n",
      "  return method()\n"
     ]
    },
    {
     "data": {
      "text/plain": [
       "      SN      id  price  category    size  availability        date  \\\n",
       "1  63576  HP9426   60.0  sneakers  36 2/3             0  07/01/2025   \n",
       "2  63577  HP9426   60.0  sneakers  37 1/3             0  07/01/2025   \n",
       "4  63579  HP9426   60.0  sneakers  38 2/3             1  07/01/2025   \n",
       "5  63580  HP9426   60.0  sneakers  39 1/3            15  07/01/2025   \n",
       "7  63582  HP9426   60.0  sneakers  40 2/3            15  07/01/2025   \n",
       "\n",
       "  country_code                name best_for_wear gender dominant_color  \\\n",
       "1           DE  Breaknet 2.0 Schuh          City      U    Cloud White   \n",
       "2           DE  Breaknet 2.0 Schuh          City      U    Cloud White   \n",
       "4           DE  Breaknet 2.0 Schuh          City      U    Cloud White   \n",
       "5           DE  Breaknet 2.0 Schuh          City      U    Cloud White   \n",
       "7           DE  Breaknet 2.0 Schuh          City      U    Cloud White   \n",
       "\n",
       "   sub_color1   sub_color2 currency shoe_metric  \n",
       "1  Core Black  Cloud White     euro          eu  \n",
       "2  Core Black  Cloud White     euro          eu  \n",
       "4  Core Black  Cloud White     euro          eu  \n",
       "5  Core Black  Cloud White     euro          eu  \n",
       "7  Core Black  Cloud White     euro          eu  "
      ],
      "text/html": [
       "<div>\n",
       "<style scoped>\n",
       "    .dataframe tbody tr th:only-of-type {\n",
       "        vertical-align: middle;\n",
       "    }\n",
       "\n",
       "    .dataframe tbody tr th {\n",
       "        vertical-align: top;\n",
       "    }\n",
       "\n",
       "    .dataframe thead th {\n",
       "        text-align: right;\n",
       "    }\n",
       "</style>\n",
       "<table border=\"1\" class=\"dataframe\">\n",
       "  <thead>\n",
       "    <tr style=\"text-align: right;\">\n",
       "      <th></th>\n",
       "      <th>SN</th>\n",
       "      <th>id</th>\n",
       "      <th>price</th>\n",
       "      <th>category</th>\n",
       "      <th>size</th>\n",
       "      <th>availability</th>\n",
       "      <th>date</th>\n",
       "      <th>country_code</th>\n",
       "      <th>name</th>\n",
       "      <th>best_for_wear</th>\n",
       "      <th>gender</th>\n",
       "      <th>dominant_color</th>\n",
       "      <th>sub_color1</th>\n",
       "      <th>sub_color2</th>\n",
       "      <th>currency</th>\n",
       "      <th>shoe_metric</th>\n",
       "    </tr>\n",
       "  </thead>\n",
       "  <tbody>\n",
       "    <tr>\n",
       "      <th>1</th>\n",
       "      <td>63576</td>\n",
       "      <td>HP9426</td>\n",
       "      <td>60.0</td>\n",
       "      <td>sneakers</td>\n",
       "      <td>36 2/3</td>\n",
       "      <td>0</td>\n",
       "      <td>07/01/2025</td>\n",
       "      <td>DE</td>\n",
       "      <td>Breaknet 2.0 Schuh</td>\n",
       "      <td>City</td>\n",
       "      <td>U</td>\n",
       "      <td>Cloud White</td>\n",
       "      <td>Core Black</td>\n",
       "      <td>Cloud White</td>\n",
       "      <td>euro</td>\n",
       "      <td>eu</td>\n",
       "    </tr>\n",
       "    <tr>\n",
       "      <th>2</th>\n",
       "      <td>63577</td>\n",
       "      <td>HP9426</td>\n",
       "      <td>60.0</td>\n",
       "      <td>sneakers</td>\n",
       "      <td>37 1/3</td>\n",
       "      <td>0</td>\n",
       "      <td>07/01/2025</td>\n",
       "      <td>DE</td>\n",
       "      <td>Breaknet 2.0 Schuh</td>\n",
       "      <td>City</td>\n",
       "      <td>U</td>\n",
       "      <td>Cloud White</td>\n",
       "      <td>Core Black</td>\n",
       "      <td>Cloud White</td>\n",
       "      <td>euro</td>\n",
       "      <td>eu</td>\n",
       "    </tr>\n",
       "    <tr>\n",
       "      <th>4</th>\n",
       "      <td>63579</td>\n",
       "      <td>HP9426</td>\n",
       "      <td>60.0</td>\n",
       "      <td>sneakers</td>\n",
       "      <td>38 2/3</td>\n",
       "      <td>1</td>\n",
       "      <td>07/01/2025</td>\n",
       "      <td>DE</td>\n",
       "      <td>Breaknet 2.0 Schuh</td>\n",
       "      <td>City</td>\n",
       "      <td>U</td>\n",
       "      <td>Cloud White</td>\n",
       "      <td>Core Black</td>\n",
       "      <td>Cloud White</td>\n",
       "      <td>euro</td>\n",
       "      <td>eu</td>\n",
       "    </tr>\n",
       "    <tr>\n",
       "      <th>5</th>\n",
       "      <td>63580</td>\n",
       "      <td>HP9426</td>\n",
       "      <td>60.0</td>\n",
       "      <td>sneakers</td>\n",
       "      <td>39 1/3</td>\n",
       "      <td>15</td>\n",
       "      <td>07/01/2025</td>\n",
       "      <td>DE</td>\n",
       "      <td>Breaknet 2.0 Schuh</td>\n",
       "      <td>City</td>\n",
       "      <td>U</td>\n",
       "      <td>Cloud White</td>\n",
       "      <td>Core Black</td>\n",
       "      <td>Cloud White</td>\n",
       "      <td>euro</td>\n",
       "      <td>eu</td>\n",
       "    </tr>\n",
       "    <tr>\n",
       "      <th>7</th>\n",
       "      <td>63582</td>\n",
       "      <td>HP9426</td>\n",
       "      <td>60.0</td>\n",
       "      <td>sneakers</td>\n",
       "      <td>40 2/3</td>\n",
       "      <td>15</td>\n",
       "      <td>07/01/2025</td>\n",
       "      <td>DE</td>\n",
       "      <td>Breaknet 2.0 Schuh</td>\n",
       "      <td>City</td>\n",
       "      <td>U</td>\n",
       "      <td>Cloud White</td>\n",
       "      <td>Core Black</td>\n",
       "      <td>Cloud White</td>\n",
       "      <td>euro</td>\n",
       "      <td>eu</td>\n",
       "    </tr>\n",
       "  </tbody>\n",
       "</table>\n",
       "</div>"
      ]
     },
     "execution_count": 103,
     "metadata": {},
     "output_type": "execute_result"
    }
   ],
   "execution_count": 103
  },
  {
   "cell_type": "code",
   "id": "901618a27d436f75",
   "metadata": {
    "ExecuteTime": {
     "end_time": "2025-04-01T21:50:59.101720Z",
     "start_time": "2025-04-01T21:50:58.955443Z"
    }
   },
   "source": [
    "shoes_fact[~shoes_fact[\"size\"].str.contains(\"^\\d+\\.?\\d*/\\d+\\.?\\d*$\")].head(5)"
   ],
   "outputs": [
    {
     "name": "stderr",
     "output_type": "stream",
     "text": [
      "/opt/homebrew/anaconda3/lib/python3.11/site-packages/IPython/core/formatters.py:344: FutureWarning: Index.format is deprecated and will be removed in a future version. Convert using index.astype(str) or index.map(formatter) instead.\n",
      "  return method()\n",
      "/opt/homebrew/anaconda3/lib/python3.11/site-packages/IPython/core/formatters.py:344: FutureWarning: RangeIndex.format is deprecated and will be removed in a future version. Convert using index.astype(str) or index.map(formatter) instead.\n",
      "  return method()\n"
     ]
    },
    {
     "data": {
      "text/plain": [
       "      SN      id  price  category    size  availability        date  \\\n",
       "0  63575  HP9426   60.0  sneakers      36             0  07/01/2025   \n",
       "1  63576  HP9426   60.0  sneakers  36 2/3             0  07/01/2025   \n",
       "2  63577  HP9426   60.0  sneakers  37 1/3             0  07/01/2025   \n",
       "3  63578  HP9426   60.0  sneakers      38             0  07/01/2025   \n",
       "4  63579  HP9426   60.0  sneakers  38 2/3             1  07/01/2025   \n",
       "\n",
       "  country_code                name best_for_wear gender dominant_color  \\\n",
       "0           DE  Breaknet 2.0 Schuh          City      U    Cloud White   \n",
       "1           DE  Breaknet 2.0 Schuh          City      U    Cloud White   \n",
       "2           DE  Breaknet 2.0 Schuh          City      U    Cloud White   \n",
       "3           DE  Breaknet 2.0 Schuh          City      U    Cloud White   \n",
       "4           DE  Breaknet 2.0 Schuh          City      U    Cloud White   \n",
       "\n",
       "   sub_color1   sub_color2 currency shoe_metric  \n",
       "0  Core Black  Cloud White     euro          eu  \n",
       "1  Core Black  Cloud White     euro          eu  \n",
       "2  Core Black  Cloud White     euro          eu  \n",
       "3  Core Black  Cloud White     euro          eu  \n",
       "4  Core Black  Cloud White     euro          eu  "
      ],
      "text/html": [
       "<div>\n",
       "<style scoped>\n",
       "    .dataframe tbody tr th:only-of-type {\n",
       "        vertical-align: middle;\n",
       "    }\n",
       "\n",
       "    .dataframe tbody tr th {\n",
       "        vertical-align: top;\n",
       "    }\n",
       "\n",
       "    .dataframe thead th {\n",
       "        text-align: right;\n",
       "    }\n",
       "</style>\n",
       "<table border=\"1\" class=\"dataframe\">\n",
       "  <thead>\n",
       "    <tr style=\"text-align: right;\">\n",
       "      <th></th>\n",
       "      <th>SN</th>\n",
       "      <th>id</th>\n",
       "      <th>price</th>\n",
       "      <th>category</th>\n",
       "      <th>size</th>\n",
       "      <th>availability</th>\n",
       "      <th>date</th>\n",
       "      <th>country_code</th>\n",
       "      <th>name</th>\n",
       "      <th>best_for_wear</th>\n",
       "      <th>gender</th>\n",
       "      <th>dominant_color</th>\n",
       "      <th>sub_color1</th>\n",
       "      <th>sub_color2</th>\n",
       "      <th>currency</th>\n",
       "      <th>shoe_metric</th>\n",
       "    </tr>\n",
       "  </thead>\n",
       "  <tbody>\n",
       "    <tr>\n",
       "      <th>0</th>\n",
       "      <td>63575</td>\n",
       "      <td>HP9426</td>\n",
       "      <td>60.0</td>\n",
       "      <td>sneakers</td>\n",
       "      <td>36</td>\n",
       "      <td>0</td>\n",
       "      <td>07/01/2025</td>\n",
       "      <td>DE</td>\n",
       "      <td>Breaknet 2.0 Schuh</td>\n",
       "      <td>City</td>\n",
       "      <td>U</td>\n",
       "      <td>Cloud White</td>\n",
       "      <td>Core Black</td>\n",
       "      <td>Cloud White</td>\n",
       "      <td>euro</td>\n",
       "      <td>eu</td>\n",
       "    </tr>\n",
       "    <tr>\n",
       "      <th>1</th>\n",
       "      <td>63576</td>\n",
       "      <td>HP9426</td>\n",
       "      <td>60.0</td>\n",
       "      <td>sneakers</td>\n",
       "      <td>36 2/3</td>\n",
       "      <td>0</td>\n",
       "      <td>07/01/2025</td>\n",
       "      <td>DE</td>\n",
       "      <td>Breaknet 2.0 Schuh</td>\n",
       "      <td>City</td>\n",
       "      <td>U</td>\n",
       "      <td>Cloud White</td>\n",
       "      <td>Core Black</td>\n",
       "      <td>Cloud White</td>\n",
       "      <td>euro</td>\n",
       "      <td>eu</td>\n",
       "    </tr>\n",
       "    <tr>\n",
       "      <th>2</th>\n",
       "      <td>63577</td>\n",
       "      <td>HP9426</td>\n",
       "      <td>60.0</td>\n",
       "      <td>sneakers</td>\n",
       "      <td>37 1/3</td>\n",
       "      <td>0</td>\n",
       "      <td>07/01/2025</td>\n",
       "      <td>DE</td>\n",
       "      <td>Breaknet 2.0 Schuh</td>\n",
       "      <td>City</td>\n",
       "      <td>U</td>\n",
       "      <td>Cloud White</td>\n",
       "      <td>Core Black</td>\n",
       "      <td>Cloud White</td>\n",
       "      <td>euro</td>\n",
       "      <td>eu</td>\n",
       "    </tr>\n",
       "    <tr>\n",
       "      <th>3</th>\n",
       "      <td>63578</td>\n",
       "      <td>HP9426</td>\n",
       "      <td>60.0</td>\n",
       "      <td>sneakers</td>\n",
       "      <td>38</td>\n",
       "      <td>0</td>\n",
       "      <td>07/01/2025</td>\n",
       "      <td>DE</td>\n",
       "      <td>Breaknet 2.0 Schuh</td>\n",
       "      <td>City</td>\n",
       "      <td>U</td>\n",
       "      <td>Cloud White</td>\n",
       "      <td>Core Black</td>\n",
       "      <td>Cloud White</td>\n",
       "      <td>euro</td>\n",
       "      <td>eu</td>\n",
       "    </tr>\n",
       "    <tr>\n",
       "      <th>4</th>\n",
       "      <td>63579</td>\n",
       "      <td>HP9426</td>\n",
       "      <td>60.0</td>\n",
       "      <td>sneakers</td>\n",
       "      <td>38 2/3</td>\n",
       "      <td>1</td>\n",
       "      <td>07/01/2025</td>\n",
       "      <td>DE</td>\n",
       "      <td>Breaknet 2.0 Schuh</td>\n",
       "      <td>City</td>\n",
       "      <td>U</td>\n",
       "      <td>Cloud White</td>\n",
       "      <td>Core Black</td>\n",
       "      <td>Cloud White</td>\n",
       "      <td>euro</td>\n",
       "      <td>eu</td>\n",
       "    </tr>\n",
       "  </tbody>\n",
       "</table>\n",
       "</div>"
      ]
     },
     "execution_count": 104,
     "metadata": {},
     "output_type": "execute_result"
    }
   ],
   "execution_count": 104
  },
  {
   "cell_type": "code",
   "id": "101d62dea922afd4",
   "metadata": {
    "ExecuteTime": {
     "end_time": "2025-04-01T21:50:59.732589Z",
     "start_time": "2025-04-01T21:50:59.106903Z"
    }
   },
   "source": [
    "shoes_fact[\"size\"] = shoes_fact[\"size\"].str.replace(\n",
    "    r\"(\\d+)\\s*1/3\", r\"\\1.33\", regex=True\n",
    ")\n",
    "shoes_fact[\"size\"] = shoes_fact[\"size\"].str.replace(\n",
    "    r\"(\\d+)\\s*2/3\", r\"\\1.66\", regex=True\n",
    ")\n",
    "shoes_fact[\"size\"] = shoes_fact[\"size\"].str.replace(\n",
    "    r\"(\\d+)\\s*1/2\", r\"\\1.5\", regex=True\n",
    ")"
   ],
   "outputs": [],
   "execution_count": 105
  },
  {
   "cell_type": "code",
   "id": "30aa3ef877674f9c",
   "metadata": {
    "ExecuteTime": {
     "end_time": "2025-04-01T21:50:59.753863Z",
     "start_time": "2025-04-01T21:50:59.735197Z"
    }
   },
   "source": [
    "shoes_fact[\"size\"].value_counts()"
   ],
   "outputs": [
    {
     "data": {
      "text/plain": [
       "size\n",
       "40       13165\n",
       "39.33    13123\n",
       "38.66    11176\n",
       "42       10921\n",
       "42.66    10875\n",
       "         ...  \n",
       "45           7\n",
       "46.33        7\n",
       "45.66        7\n",
       "55.66        3\n",
       "2K           1\n",
       "Name: count, Length: 150, dtype: int64"
      ]
     },
     "execution_count": 106,
     "metadata": {},
     "output_type": "execute_result"
    }
   ],
   "execution_count": 106
  },
  {
   "cell_type": "markdown",
   "id": "833015de",
   "metadata": {},
   "source": [
    "The size column includes values like 10K, 11K, 2K, etc. for kids sizing. "
   ]
  },
  {
   "cell_type": "markdown",
   "id": "49c80e60",
   "metadata": {},
   "source": [
    "### Cleaning Date"
   ]
  },
  {
   "cell_type": "markdown",
   "id": "1bfd505d",
   "metadata": {},
   "source": [
    "The date is encoded in different formats."
   ]
  },
  {
   "cell_type": "code",
   "id": "daaefefa",
   "metadata": {
    "ExecuteTime": {
     "end_time": "2025-04-01T21:50:59.853540Z",
     "start_time": "2025-04-01T21:50:59.754705Z"
    }
   },
   "source": [
    "shoes_fact.loc[shoes_fact[\"date\"].str.contains(\"-\", na=False), \"date\"] = (\n",
    "    shoes_fact[\"date\"]\n",
    "    .loc[shoes_fact[\"date\"].str.contains(\"-\", na=False)]\n",
    "    .apply(lambda x: f\"{x.split('-')[2]}/{x.split('-')[1]}/{x.split('-')[0]}\")\n",
    ")"
   ],
   "outputs": [],
   "execution_count": 107
  },
  {
   "cell_type": "markdown",
   "id": "d628767e",
   "metadata": {},
   "source": [
    "Date is transformed into DD/MM/YYYY format."
   ]
  },
  {
   "cell_type": "code",
   "id": "b04c1319",
   "metadata": {
    "ExecuteTime": {
     "end_time": "2025-04-01T21:50:59.863749Z",
     "start_time": "2025-04-01T21:50:59.854943Z"
    }
   },
   "source": [
    "shoes_fact.head(5)"
   ],
   "outputs": [
    {
     "name": "stderr",
     "output_type": "stream",
     "text": [
      "/opt/homebrew/anaconda3/lib/python3.11/site-packages/IPython/core/formatters.py:344: FutureWarning: Index.format is deprecated and will be removed in a future version. Convert using index.astype(str) or index.map(formatter) instead.\n",
      "  return method()\n",
      "/opt/homebrew/anaconda3/lib/python3.11/site-packages/IPython/core/formatters.py:344: FutureWarning: RangeIndex.format is deprecated and will be removed in a future version. Convert using index.astype(str) or index.map(formatter) instead.\n",
      "  return method()\n"
     ]
    },
    {
     "data": {
      "text/plain": [
       "      SN      id  price  category   size  availability        date  \\\n",
       "0  63575  HP9426   60.0  sneakers     36             0  07/01/2025   \n",
       "1  63576  HP9426   60.0  sneakers  36.66             0  07/01/2025   \n",
       "2  63577  HP9426   60.0  sneakers  37.33             0  07/01/2025   \n",
       "3  63578  HP9426   60.0  sneakers     38             0  07/01/2025   \n",
       "4  63579  HP9426   60.0  sneakers  38.66             1  07/01/2025   \n",
       "\n",
       "  country_code                name best_for_wear gender dominant_color  \\\n",
       "0           DE  Breaknet 2.0 Schuh          City      U    Cloud White   \n",
       "1           DE  Breaknet 2.0 Schuh          City      U    Cloud White   \n",
       "2           DE  Breaknet 2.0 Schuh          City      U    Cloud White   \n",
       "3           DE  Breaknet 2.0 Schuh          City      U    Cloud White   \n",
       "4           DE  Breaknet 2.0 Schuh          City      U    Cloud White   \n",
       "\n",
       "   sub_color1   sub_color2 currency shoe_metric  \n",
       "0  Core Black  Cloud White     euro          eu  \n",
       "1  Core Black  Cloud White     euro          eu  \n",
       "2  Core Black  Cloud White     euro          eu  \n",
       "3  Core Black  Cloud White     euro          eu  \n",
       "4  Core Black  Cloud White     euro          eu  "
      ],
      "text/html": [
       "<div>\n",
       "<style scoped>\n",
       "    .dataframe tbody tr th:only-of-type {\n",
       "        vertical-align: middle;\n",
       "    }\n",
       "\n",
       "    .dataframe tbody tr th {\n",
       "        vertical-align: top;\n",
       "    }\n",
       "\n",
       "    .dataframe thead th {\n",
       "        text-align: right;\n",
       "    }\n",
       "</style>\n",
       "<table border=\"1\" class=\"dataframe\">\n",
       "  <thead>\n",
       "    <tr style=\"text-align: right;\">\n",
       "      <th></th>\n",
       "      <th>SN</th>\n",
       "      <th>id</th>\n",
       "      <th>price</th>\n",
       "      <th>category</th>\n",
       "      <th>size</th>\n",
       "      <th>availability</th>\n",
       "      <th>date</th>\n",
       "      <th>country_code</th>\n",
       "      <th>name</th>\n",
       "      <th>best_for_wear</th>\n",
       "      <th>gender</th>\n",
       "      <th>dominant_color</th>\n",
       "      <th>sub_color1</th>\n",
       "      <th>sub_color2</th>\n",
       "      <th>currency</th>\n",
       "      <th>shoe_metric</th>\n",
       "    </tr>\n",
       "  </thead>\n",
       "  <tbody>\n",
       "    <tr>\n",
       "      <th>0</th>\n",
       "      <td>63575</td>\n",
       "      <td>HP9426</td>\n",
       "      <td>60.0</td>\n",
       "      <td>sneakers</td>\n",
       "      <td>36</td>\n",
       "      <td>0</td>\n",
       "      <td>07/01/2025</td>\n",
       "      <td>DE</td>\n",
       "      <td>Breaknet 2.0 Schuh</td>\n",
       "      <td>City</td>\n",
       "      <td>U</td>\n",
       "      <td>Cloud White</td>\n",
       "      <td>Core Black</td>\n",
       "      <td>Cloud White</td>\n",
       "      <td>euro</td>\n",
       "      <td>eu</td>\n",
       "    </tr>\n",
       "    <tr>\n",
       "      <th>1</th>\n",
       "      <td>63576</td>\n",
       "      <td>HP9426</td>\n",
       "      <td>60.0</td>\n",
       "      <td>sneakers</td>\n",
       "      <td>36.66</td>\n",
       "      <td>0</td>\n",
       "      <td>07/01/2025</td>\n",
       "      <td>DE</td>\n",
       "      <td>Breaknet 2.0 Schuh</td>\n",
       "      <td>City</td>\n",
       "      <td>U</td>\n",
       "      <td>Cloud White</td>\n",
       "      <td>Core Black</td>\n",
       "      <td>Cloud White</td>\n",
       "      <td>euro</td>\n",
       "      <td>eu</td>\n",
       "    </tr>\n",
       "    <tr>\n",
       "      <th>2</th>\n",
       "      <td>63577</td>\n",
       "      <td>HP9426</td>\n",
       "      <td>60.0</td>\n",
       "      <td>sneakers</td>\n",
       "      <td>37.33</td>\n",
       "      <td>0</td>\n",
       "      <td>07/01/2025</td>\n",
       "      <td>DE</td>\n",
       "      <td>Breaknet 2.0 Schuh</td>\n",
       "      <td>City</td>\n",
       "      <td>U</td>\n",
       "      <td>Cloud White</td>\n",
       "      <td>Core Black</td>\n",
       "      <td>Cloud White</td>\n",
       "      <td>euro</td>\n",
       "      <td>eu</td>\n",
       "    </tr>\n",
       "    <tr>\n",
       "      <th>3</th>\n",
       "      <td>63578</td>\n",
       "      <td>HP9426</td>\n",
       "      <td>60.0</td>\n",
       "      <td>sneakers</td>\n",
       "      <td>38</td>\n",
       "      <td>0</td>\n",
       "      <td>07/01/2025</td>\n",
       "      <td>DE</td>\n",
       "      <td>Breaknet 2.0 Schuh</td>\n",
       "      <td>City</td>\n",
       "      <td>U</td>\n",
       "      <td>Cloud White</td>\n",
       "      <td>Core Black</td>\n",
       "      <td>Cloud White</td>\n",
       "      <td>euro</td>\n",
       "      <td>eu</td>\n",
       "    </tr>\n",
       "    <tr>\n",
       "      <th>4</th>\n",
       "      <td>63579</td>\n",
       "      <td>HP9426</td>\n",
       "      <td>60.0</td>\n",
       "      <td>sneakers</td>\n",
       "      <td>38.66</td>\n",
       "      <td>1</td>\n",
       "      <td>07/01/2025</td>\n",
       "      <td>DE</td>\n",
       "      <td>Breaknet 2.0 Schuh</td>\n",
       "      <td>City</td>\n",
       "      <td>U</td>\n",
       "      <td>Cloud White</td>\n",
       "      <td>Core Black</td>\n",
       "      <td>Cloud White</td>\n",
       "      <td>euro</td>\n",
       "      <td>eu</td>\n",
       "    </tr>\n",
       "  </tbody>\n",
       "</table>\n",
       "</div>"
      ]
     },
     "execution_count": 108,
     "metadata": {},
     "output_type": "execute_result"
    }
   ],
   "execution_count": 108
  },
  {
   "cell_type": "code",
   "id": "d8c5470b",
   "metadata": {
    "ExecuteTime": {
     "end_time": "2025-04-01T21:50:59.887594Z",
     "start_time": "2025-04-01T21:50:59.866399Z"
    }
   },
   "source": [
    "shoes_fact['date'].unique()"
   ],
   "outputs": [
    {
     "data": {
      "text/plain": [
       "array(['07/01/2025', '08/01/2025', '09/01/2025', '10/01/2025',\n",
       "       '11/01/2025', '12/01/2025', '13/01/2025', '14/01/2025',\n",
       "       '15/01/2025', '16/01/2025'], dtype=object)"
      ]
     },
     "execution_count": 109,
     "metadata": {},
     "output_type": "execute_result"
    }
   ],
   "execution_count": 109
  },
  {
   "cell_type": "markdown",
   "id": "74ae18a2",
   "metadata": {},
   "source": [
    "### Grouping Color \n",
    "There are too many values for color, thus they will be grouped into the 11 basic color names: white, black, gray, red, orange, yellow, green, blue, purple, pink, and brown."
   ]
  },
  {
   "cell_type": "code",
   "id": "617c3b9e",
   "metadata": {
    "ExecuteTime": {
     "end_time": "2025-04-01T21:51:00.762536Z",
     "start_time": "2025-04-01T21:50:59.889192Z"
    }
   },
   "source": [
    "#shoes_fact[[\"dominant_color\", \"sub_color1\", \"sub_color2\"]]\n",
    "color_map = {\n",
    "    \"ivory\": \"White\",\n",
    "    \"white\": \"White\",\n",
    "    \"gum\": \"White\",\n",
    "    \"quartz\": \"White\",\n",
    "    \"chalk\": \"White\",\n",
    "    \"talc\": \"White\",\n",
    "    \"alumina\": \"White\",\n",
    "    \"vanilla\": \"White\",\n",
    "    \"granite\": \"White\",\n",
    "    \"sesame\": \"White\",\n",
    "    \"black\": \"Black\",\n",
    "    \"carbon\": \"Black\",\n",
    "    \"cinder\": \"Black\",\n",
    "    \"pewter\": \"Black\",\n",
    "    \"coal\": \"Black\",\n",
    "    \"mauve\": \"Pink\",\n",
    "    \"clay\": \"Pink\",\n",
    "    \"fuchsia\": \"Pink\",\n",
    "    \"orchid\": \"Pink\",\n",
    "    \"blush\": \"Pink\",\n",
    "    \"pink\": \"Pink\",\n",
    "    \"coral\": \"Pink\",\n",
    "    \"bliss\": \"Pink\",\n",
    "    \"berry\": \"Pink\",\n",
    "    \"rose\": \"Pink\",\n",
    "    \"magenta\": \"Pink\",\n",
    "    \"ink\": \"Black\",\n",
    "    \"onix\": \"Gray\",\n",
    "    \"gray\": \"Gray\",\n",
    "    \"metallic\": \"Gray\",\n",
    "    \"met.\": \"Gray\",\n",
    "    \"metalic\": \"Gray\",\n",
    "    \"steel\": \"Gray\",\n",
    "    \"silver\": \"Gray\",\n",
    "    \"stone\": \"Gray\",\n",
    "    \"grey\": \"Gray\",\n",
    "    \"ruby\": \"Red\",\n",
    "    \"crimson\": \"Red\",\n",
    "    \"scarlet\": \"Red\",\n",
    "    \"maroon\": \"Red\",\n",
    "    \"red\": \"Red\",\n",
    "    \"amber\": \"Orange\",\n",
    "    \"orange\": \"Orange\",\n",
    "    \"lemon\": \"Yellow\",\n",
    "    \"spark\": \"Yellow\",\n",
    "    \"yellow\": \"Yellow\",\n",
    "    \"gold\": \"Yellow\",\n",
    "    \"green\": \"Green\",\n",
    "    \"mint\": \"Green\",\n",
    "    \"cargo\": \"Green\",\n",
    "    \"olive\": \"Green\",\n",
    "    \"ivy\": \"Green\",\n",
    "    \"jade\": \"Green\",\n",
    "    \"turbo\": \"Green\",\n",
    "    \"pine\": \"Green\",\n",
    "    \"lime\": \"Green\",\n",
    "    \"navy\": \"Blue\",\n",
    "    \"sky\": \"Blue\",\n",
    "    \"royal\": \"Blue\",\n",
    "    \"marine\": \"Blue\",\n",
    "    \"cyan\": \"Blue\",\n",
    "    \"blue\": \"Blue\",\n",
    "    \"night\": \"Blue\",\n",
    "    \"aqua\": \"Blue\",\n",
    "    \"teal\": \"Blue\",\n",
    "    \"purple\": \"Purple\",\n",
    "    \"lavender\": \"Purple\",\n",
    "    \"fig\": \"Purple\",\n",
    "    \"lilac\": \"Purple\",\n",
    "    \"indigo\": \"Purple\",\n",
    "    \"violet\": \"Purple\",\n",
    "    \"taupe\": \"Brown\",\n",
    "    \"brown\": \"Brown\",\n",
    "    \"gobi\": \"Brown\",\n",
    "    \"bronze\": \"Brown\",\n",
    "    \"burgundy\": \"Brown\",\n",
    "    \"cardboard\": \"Brown\",\n",
    "    \"mesa\": \"Brown\",\n",
    "    \"sand\": \"Brown\",\n",
    "    \"earth\": \"Brown\",\n",
    "    \"cargo\": \"Brown\",\n",
    "    \"savanna\": \"Brown\",\n",
    "    \"copper\": \"Brown\",\n",
    "    \"oat\": \"Brown\",\n",
    "    \"beige\": \"Brown\"\n",
    "}\n",
    "\n",
    "def classify_color(color):\n",
    "    if pd.isna(color):  # Handle NaN values\n",
    "        return np.nan\n",
    "    color_lower = str(color).lower()  # Ensure it's a string before using .lower()\n",
    "    \n",
    "    for keyword, category in color_map.items():\n",
    "        if keyword in color_lower:  \n",
    "            return category  # Return the mapped category\n",
    "    return color  # If no match, return original value \n",
    "\n",
    "\n",
    "shoes_fact[[\"dominant_color\", \"sub_color1\", \"sub_color2\"]] = shoes_fact[[\"dominant_color\", \"sub_color1\", \"sub_color2\"]].applymap(classify_color)"
   ],
   "outputs": [
    {
     "name": "stderr",
     "output_type": "stream",
     "text": [
      "/var/folders/4z/y4vp59b11g174s01r1_nt_3h0000gn/T/ipykernel_65672/2641440801.py:101: FutureWarning: DataFrame.applymap has been deprecated. Use DataFrame.map instead.\n",
      "  shoes_fact[[\"dominant_color\", \"sub_color1\", \"sub_color2\"]] = shoes_fact[[\"dominant_color\", \"sub_color1\", \"sub_color2\"]].applymap(classify_color)\n"
     ]
    }
   ],
   "execution_count": 110
  },
  {
   "cell_type": "code",
   "id": "65c64385",
   "metadata": {
    "ExecuteTime": {
     "end_time": "2025-04-01T21:51:00.792164Z",
     "start_time": "2025-04-01T21:51:00.764709Z"
    }
   },
   "source": [
    "print(shoes_fact[\"dominant_color\"].unique())\n",
    "print(shoes_fact[\"sub_color1\"].unique())\n",
    "print(shoes_fact[\"sub_color2\"].unique())"
   ],
   "outputs": [
    {
     "name": "stdout",
     "output_type": "stream",
     "text": [
      "['White' 'Black' 'Gray' 'Blue' 'Pink' 'Yellow' 'Red' 'Green' 'Purple'\n",
      " 'Non Dyed' 'Brown' 'Orange' 'Supplier Colour']\n",
      "['Black' 'White' 'Gray' 'Pink' 'Blue' 'Iridescent' 'Red' 'Green'\n",
      " 'Supplier Colour' 'Brown' 'Purple' 'Yellow' 'Orange' nan 'Non Dyed']\n",
      "['White' 'Green' 'Red' 'Gray' 'Black' 'Blue' 'Yellow' 'Pink' 'Brown'\n",
      " 'Purple' 'Orange' nan 'Supplier Colour']\n"
     ]
    }
   ],
   "execution_count": 111
  },
  {
   "cell_type": "markdown",
   "id": "cdccf066",
   "metadata": {},
   "source": [
    "### Heatmap of `dominant_color`, `sub_color1`, and `sub_color2`"
   ]
  },
  {
   "cell_type": "code",
   "id": "40a16791",
   "metadata": {
    "ExecuteTime": {
     "end_time": "2025-04-01T21:51:01.017170Z",
     "start_time": "2025-04-01T21:51:00.793316Z"
    }
   },
   "source": [
    "shoes_fact['dominant_color'] = shoes_fact['dominant_color'].astype('category').cat.codes\n",
    "shoes_fact['sub_color1'] = shoes_fact['sub_color1'].astype('category').cat.codes\n",
    "shoes_fact['sub_color2'] = shoes_fact['sub_color2'].astype('category').cat.codes\n",
    "\n",
    "color_columns = ['dominant_color', 'sub_color1', 'sub_color2']\n",
    "correlation_matrix = shoes_fact[color_columns].corr()\n",
    "\n",
    "plt.figure(figsize=(10, 6))\n",
    "sns.heatmap(correlation_matrix, annot=True, cmap='coolwarm', fmt='.2f', linewidths=0.5)\n",
    "plt.title('Correlation Heatmap between Color Features')\n",
    "plt.show()\n"
   ],
   "outputs": [
    {
     "data": {
      "text/plain": [
       "<Figure size 1000x600 with 2 Axes>"
      ],
      "image/png": "[encoded data removed]"
     },
     "metadata": {},
     "output_type": "display_data"
    }
   ],
   "execution_count": 112
  },
  {
   "cell_type": "code",
   "metadata": {
    "ExecuteTime": {
     "end_time": "2025-04-01T21:51:01.056389Z",
     "start_time": "2025-04-01T21:51:01.019094Z"
    }
   },
   "source": [
    "shoes_fact.describe()"
   ],
   "id": "1010b98cf966f349",
   "outputs": [
    {
     "name": "stderr",
     "output_type": "stream",
     "text": [
      "/opt/homebrew/anaconda3/lib/python3.11/site-packages/IPython/core/formatters.py:344: FutureWarning: Index.format is deprecated and will be removed in a future version. Convert using index.astype(str) or index.map(formatter) instead.\n",
      "  return method()\n"
     ]
    },
    {
     "data": {
      "text/plain": [
       "                  SN          price   availability  dominant_color  \\\n",
       "count  299156.000000  299156.000000  299156.000000   299156.000000   \n",
       "mean   466431.465376      99.715583       5.868500        4.293075   \n",
       "std    226847.605994      58.325251       6.718055        4.639650   \n",
       "min     63575.000000      16.000000       0.000000        0.000000   \n",
       "25%    267723.750000      55.000000       0.000000        0.000000   \n",
       "50%    453134.500000      88.200000       1.000000        3.000000   \n",
       "75%    664428.250000     130.000000      15.000000       11.000000   \n",
       "max    847282.000000     500.000000      15.000000       12.000000   \n",
       "\n",
       "          sub_color1     sub_color2  \n",
       "count  299156.000000  299156.000000  \n",
       "mean        4.895409       4.712702  \n",
       "std         4.884948       3.802033  \n",
       "min        -1.000000      -1.000000  \n",
       "25%         0.000000       1.000000  \n",
       "50%         3.000000       3.000000  \n",
       "75%        12.000000       8.000000  \n",
       "max        13.000000      11.000000  "
      ],
      "text/html": [
       "<div>\n",
       "<style scoped>\n",
       "    .dataframe tbody tr th:only-of-type {\n",
       "        vertical-align: middle;\n",
       "    }\n",
       "\n",
       "    .dataframe tbody tr th {\n",
       "        vertical-align: top;\n",
       "    }\n",
       "\n",
       "    .dataframe thead th {\n",
       "        text-align: right;\n",
       "    }\n",
       "</style>\n",
       "<table border=\"1\" class=\"dataframe\">\n",
       "  <thead>\n",
       "    <tr style=\"text-align: right;\">\n",
       "      <th></th>\n",
       "      <th>SN</th>\n",
       "      <th>price</th>\n",
       "      <th>availability</th>\n",
       "      <th>dominant_color</th>\n",
       "      <th>sub_color1</th>\n",
       "      <th>sub_color2</th>\n",
       "    </tr>\n",
       "  </thead>\n",
       "  <tbody>\n",
       "    <tr>\n",
       "      <th>count</th>\n",
       "      <td>299156.000000</td>\n",
       "      <td>299156.000000</td>\n",
       "      <td>299156.000000</td>\n",
       "      <td>299156.000000</td>\n",
       "      <td>299156.000000</td>\n",
       "      <td>299156.000000</td>\n",
       "    </tr>\n",
       "    <tr>\n",
       "      <th>mean</th>\n",
       "      <td>466431.465376</td>\n",
       "      <td>99.715583</td>\n",
       "      <td>5.868500</td>\n",
       "      <td>4.293075</td>\n",
       "      <td>4.895409</td>\n",
       "      <td>4.712702</td>\n",
       "    </tr>\n",
       "    <tr>\n",
       "      <th>std</th>\n",
       "      <td>226847.605994</td>\n",
       "      <td>58.325251</td>\n",
       "      <td>6.718055</td>\n",
       "      <td>4.639650</td>\n",
       "      <td>4.884948</td>\n",
       "      <td>3.802033</td>\n",
       "    </tr>\n",
       "    <tr>\n",
       "      <th>min</th>\n",
       "      <td>63575.000000</td>\n",
       "      <td>16.000000</td>\n",
       "      <td>0.000000</td>\n",
       "      <td>0.000000</td>\n",
       "      <td>-1.000000</td>\n",
       "      <td>-1.000000</td>\n",
       "    </tr>\n",
       "    <tr>\n",
       "      <th>25%</th>\n",
       "      <td>267723.750000</td>\n",
       "      <td>55.000000</td>\n",
       "      <td>0.000000</td>\n",
       "      <td>0.000000</td>\n",
       "      <td>0.000000</td>\n",
       "      <td>1.000000</td>\n",
       "    </tr>\n",
       "    <tr>\n",
       "      <th>50%</th>\n",
       "      <td>453134.500000</td>\n",
       "      <td>88.200000</td>\n",
       "      <td>1.000000</td>\n",
       "      <td>3.000000</td>\n",
       "      <td>3.000000</td>\n",
       "      <td>3.000000</td>\n",
       "    </tr>\n",
       "    <tr>\n",
       "      <th>75%</th>\n",
       "      <td>664428.250000</td>\n",
       "      <td>130.000000</td>\n",
       "      <td>15.000000</td>\n",
       "      <td>11.000000</td>\n",
       "      <td>12.000000</td>\n",
       "      <td>8.000000</td>\n",
       "    </tr>\n",
       "    <tr>\n",
       "      <th>max</th>\n",
       "      <td>847282.000000</td>\n",
       "      <td>500.000000</td>\n",
       "      <td>15.000000</td>\n",
       "      <td>12.000000</td>\n",
       "      <td>13.000000</td>\n",
       "      <td>11.000000</td>\n",
       "    </tr>\n",
       "  </tbody>\n",
       "</table>\n",
       "</div>"
      ]
     },
     "execution_count": 113,
     "metadata": {},
     "output_type": "execute_result"
    }
   ],
   "execution_count": 113
  },
  {
   "cell_type": "markdown",
   "id": "b41dd1de",
   "metadata": {},
   "source": [
    "### Renaming Gender Labels"
   ]
  },
  {
   "cell_type": "code",
   "id": "953cc00a",
   "metadata": {
    "ExecuteTime": {
     "end_time": "2025-04-01T21:51:01.110087Z",
     "start_time": "2025-04-01T21:51:01.061650Z"
    }
   },
   "source": [
    "gender_mapping = {\n",
    "    \"U\": \"Unisex\",\n",
    "    \"W\": \"Women\",\n",
    "    \"K\": \"Kids\",\n",
    "    \"M\": \"Men\"\n",
    "}\n",
    "\n",
    "shoes_fact[\"gender\"] = shoes_fact[\"gender\"].replace(gender_mapping)"
   ],
   "outputs": [],
   "execution_count": 114
  },
  {
   "cell_type": "markdown",
   "id": "4804523f",
   "metadata": {},
   "source": [
    "## Cleaning and Converting Sizes to US metric"
   ]
  },
  {
   "cell_type": "code",
   "id": "97a5073d",
   "metadata": {
    "ExecuteTime": {
     "end_time": "2025-04-01T21:51:01.122995Z",
     "start_time": "2025-04-01T21:51:01.111484Z"
    }
   },
   "source": [
    "country_to_metric = {\"DE\": \"eu\", \"US\": \"usa\", \"BE\": \"eu\", \"UK\": \"uk\"}\n",
    "\n",
    "conversion_chart = {\n",
    "    \"uk\": {1: 2, 1.5: 2.5, 2: 3, 2.5: 3.5, 3: 4, 3.5: 4.5, 4: 5, 4.5: 5.5,\n",
    "           5: 6, 5.5: 6.5, 6: 7, 6.5: 7.5, 7: 8, 7.5: 8.5, 8: 9, 8.5: 9.5,\n",
    "           9: 10, 9.5: 10.5, 10: 11, 10.5: 11.5, 11: 12, 11.5: 12.5, 12: 13, 12.5: 13.5,\n",
    "           13: 14, 13.5: 14.5, 14: 15},\n",
    "\n",
    "    \"eu\": {32: 1, 32.5: 1.5, 33: 2, 33.5: 2.5, 34: 3, 35: 3.5, 35.5: 4, 36: 4.5,\n",
    "           36.5: 5, 37: 5.5, 37.5: 6, 38: 6.5, 38.5: 7, 39: 7.5, 40: 8, 40.5: 8.5,\n",
    "           41: 9, 42: 9.5, 42.5: 10, 43: 10.5, 44: 11, 44.5: 11.5, 45: 12, 46: 12.5,\n",
    "           46.5: 13, 47: 13.5, 48: 14, 49.5: 15, 50: 16}\n",
    "}"
   ],
   "outputs": [],
   "execution_count": 115
  },
  {
   "cell_type": "code",
   "id": "9f5e120c",
   "metadata": {
    "ExecuteTime": {
     "end_time": "2025-04-01T21:51:01.132376Z",
     "start_time": "2025-04-01T21:51:01.124064Z"
    }
   },
   "source": [
    "shoes_fact.head(5)"
   ],
   "outputs": [
    {
     "name": "stderr",
     "output_type": "stream",
     "text": [
      "/opt/homebrew/anaconda3/lib/python3.11/site-packages/IPython/core/formatters.py:344: FutureWarning: Index.format is deprecated and will be removed in a future version. Convert using index.astype(str) or index.map(formatter) instead.\n",
      "  return method()\n",
      "/opt/homebrew/anaconda3/lib/python3.11/site-packages/IPython/core/formatters.py:344: FutureWarning: RangeIndex.format is deprecated and will be removed in a future version. Convert using index.astype(str) or index.map(formatter) instead.\n",
      "  return method()\n"
     ]
    },
    {
     "data": {
      "text/plain": [
       "      SN      id  price  category   size  availability        date  \\\n",
       "0  63575  HP9426   60.0  sneakers     36             0  07/01/2025   \n",
       "1  63576  HP9426   60.0  sneakers  36.66             0  07/01/2025   \n",
       "2  63577  HP9426   60.0  sneakers  37.33             0  07/01/2025   \n",
       "3  63578  HP9426   60.0  sneakers     38             0  07/01/2025   \n",
       "4  63579  HP9426   60.0  sneakers  38.66             1  07/01/2025   \n",
       "\n",
       "  country_code                name best_for_wear  gender  dominant_color  \\\n",
       "0           DE  Breaknet 2.0 Schuh          City  Unisex              11   \n",
       "1           DE  Breaknet 2.0 Schuh          City  Unisex              11   \n",
       "2           DE  Breaknet 2.0 Schuh          City  Unisex              11   \n",
       "3           DE  Breaknet 2.0 Schuh          City  Unisex              11   \n",
       "4           DE  Breaknet 2.0 Schuh          City  Unisex              11   \n",
       "\n",
       "   sub_color1  sub_color2 currency shoe_metric  \n",
       "0           0          10     euro          eu  \n",
       "1           0          10     euro          eu  \n",
       "2           0          10     euro          eu  \n",
       "3           0          10     euro          eu  \n",
       "4           0          10     euro          eu  "
      ],
      "text/html": [
       "<div>\n",
       "<style scoped>\n",
       "    .dataframe tbody tr th:only-of-type {\n",
       "        vertical-align: middle;\n",
       "    }\n",
       "\n",
       "    .dataframe tbody tr th {\n",
       "        vertical-align: top;\n",
       "    }\n",
       "\n",
       "    .dataframe thead th {\n",
       "        text-align: right;\n",
       "    }\n",
       "</style>\n",
       "<table border=\"1\" class=\"dataframe\">\n",
       "  <thead>\n",
       "    <tr style=\"text-align: right;\">\n",
       "      <th></th>\n",
       "      <th>SN</th>\n",
       "      <th>id</th>\n",
       "      <th>price</th>\n",
       "      <th>category</th>\n",
       "      <th>size</th>\n",
       "      <th>availability</th>\n",
       "      <th>date</th>\n",
       "      <th>country_code</th>\n",
       "      <th>name</th>\n",
       "      <th>best_for_wear</th>\n",
       "      <th>gender</th>\n",
       "      <th>dominant_color</th>\n",
       "      <th>sub_color1</th>\n",
       "      <th>sub_color2</th>\n",
       "      <th>currency</th>\n",
       "      <th>shoe_metric</th>\n",
       "    </tr>\n",
       "  </thead>\n",
       "  <tbody>\n",
       "    <tr>\n",
       "      <th>0</th>\n",
       "      <td>63575</td>\n",
       "      <td>HP9426</td>\n",
       "      <td>60.0</td>\n",
       "      <td>sneakers</td>\n",
       "      <td>36</td>\n",
       "      <td>0</td>\n",
       "      <td>07/01/2025</td>\n",
       "      <td>DE</td>\n",
       "      <td>Breaknet 2.0 Schuh</td>\n",
       "      <td>City</td>\n",
       "      <td>Unisex</td>\n",
       "      <td>11</td>\n",
       "      <td>0</td>\n",
       "      <td>10</td>\n",
       "      <td>euro</td>\n",
       "      <td>eu</td>\n",
       "    </tr>\n",
       "    <tr>\n",
       "      <th>1</th>\n",
       "      <td>63576</td>\n",
       "      <td>HP9426</td>\n",
       "      <td>60.0</td>\n",
       "      <td>sneakers</td>\n",
       "      <td>36.66</td>\n",
       "      <td>0</td>\n",
       "      <td>07/01/2025</td>\n",
       "      <td>DE</td>\n",
       "      <td>Breaknet 2.0 Schuh</td>\n",
       "      <td>City</td>\n",
       "      <td>Unisex</td>\n",
       "      <td>11</td>\n",
       "      <td>0</td>\n",
       "      <td>10</td>\n",
       "      <td>euro</td>\n",
       "      <td>eu</td>\n",
       "    </tr>\n",
       "    <tr>\n",
       "      <th>2</th>\n",
       "      <td>63577</td>\n",
       "      <td>HP9426</td>\n",
       "      <td>60.0</td>\n",
       "      <td>sneakers</td>\n",
       "      <td>37.33</td>\n",
       "      <td>0</td>\n",
       "      <td>07/01/2025</td>\n",
       "      <td>DE</td>\n",
       "      <td>Breaknet 2.0 Schuh</td>\n",
       "      <td>City</td>\n",
       "      <td>Unisex</td>\n",
       "      <td>11</td>\n",
       "      <td>0</td>\n",
       "      <td>10</td>\n",
       "      <td>euro</td>\n",
       "      <td>eu</td>\n",
       "    </tr>\n",
       "    <tr>\n",
       "      <th>3</th>\n",
       "      <td>63578</td>\n",
       "      <td>HP9426</td>\n",
       "      <td>60.0</td>\n",
       "      <td>sneakers</td>\n",
       "      <td>38</td>\n",
       "      <td>0</td>\n",
       "      <td>07/01/2025</td>\n",
       "      <td>DE</td>\n",
       "      <td>Breaknet 2.0 Schuh</td>\n",
       "      <td>City</td>\n",
       "      <td>Unisex</td>\n",
       "      <td>11</td>\n",
       "      <td>0</td>\n",
       "      <td>10</td>\n",
       "      <td>euro</td>\n",
       "      <td>eu</td>\n",
       "    </tr>\n",
       "    <tr>\n",
       "      <th>4</th>\n",
       "      <td>63579</td>\n",
       "      <td>HP9426</td>\n",
       "      <td>60.0</td>\n",
       "      <td>sneakers</td>\n",
       "      <td>38.66</td>\n",
       "      <td>1</td>\n",
       "      <td>07/01/2025</td>\n",
       "      <td>DE</td>\n",
       "      <td>Breaknet 2.0 Schuh</td>\n",
       "      <td>City</td>\n",
       "      <td>Unisex</td>\n",
       "      <td>11</td>\n",
       "      <td>0</td>\n",
       "      <td>10</td>\n",
       "      <td>euro</td>\n",
       "      <td>eu</td>\n",
       "    </tr>\n",
       "  </tbody>\n",
       "</table>\n",
       "</div>"
      ]
     },
     "execution_count": 116,
     "metadata": {},
     "output_type": "execute_result"
    }
   ],
   "execution_count": 116
  },
  {
   "cell_type": "code",
   "id": "35a01896",
   "metadata": {
    "ExecuteTime": {
     "end_time": "2025-04-01T21:51:03.423146Z",
     "start_time": "2025-04-01T21:51:01.134510Z"
    }
   },
   "source": [
    "def get_nearest_size(size, metric):\n",
    "    if metric == \"eu\":\n",
    "        available_sizes = sorted(conversion_chart[\"eu\"].keys())\n",
    "        closest_size = min(available_sizes, key=lambda x: abs(x - size))\n",
    "        return conversion_chart[\"eu\"].get(closest_size, None)\n",
    "    return size  # No conversion if metric is not 'eu'\n",
    "\n",
    "def clean_and_convert_size(row):\n",
    "    size = str(row[\"size\"]).strip() if pd.notna(row[\"size\"]) else None\n",
    "\n",
    "    # Handle Kid sizes (remove 'K')\n",
    "    if 'K' in size:\n",
    "        size = size.replace('K', '')\n",
    "\n",
    "    # Handle Mixed Gender sizes (e.g., \"M 4 / W 5\" → 4.0)\n",
    "    elif 'M ' in size and ' / W' in size:\n",
    "        size = size.split()[1]\n",
    "\n",
    "    try:\n",
    "        size = float(size)\n",
    "    except ValueError:\n",
    "        print(f\"Error converting size {size} to float\")  \n",
    "        return None  \n",
    "\n",
    "    # Round to the nearest 0.5\n",
    "    size = round(size * 2) / 2\n",
    "\n",
    "    metric = country_to_metric.get(row[\"country_code\"], \"usa\")  # Default to USA\n",
    "\n",
    "    # Safety net: if the country code is \"US\", return the size as is (no conversion)\n",
    "    if row[\"shoe_metric\"] == \"usa\":\n",
    "        return size\n",
    "\n",
    "    # If the metric is not \"usa\", attempt to convert the size\n",
    "    converted_size = conversion_chart.get(metric, {}).get(size, None)\n",
    "\n",
    "    if converted_size is None:\n",
    "        converted_size = get_nearest_size(size, metric)  # Finding nearest size\n",
    "\n",
    "    return converted_size\n",
    "\n",
    "# Apply function directly to the \"size\" column\n",
    "shoes_fact[\"size\"] = shoes_fact.apply(clean_and_convert_size, axis=1)\n",
    "\n",
    "shoes_fact[\"shoe_metric\"] = \"usa\"\n",
    "nan_sizes = shoes_fact[shoes_fact[\"size\"].isna()]\n",
    "print(f\"Total NaN values: {nan_sizes.shape[0]}\")\n",
    "\n",
    "# Print the cleaned and sorted unique sizes\n",
    "cleaned_sizes = sorted(shoes_fact[\"size\"].dropna().unique())\n",
    "print(\"Cleaned and Sorted Shoe Sizes (US):\")\n",
    "for size in cleaned_sizes:\n",
    "    print(f\"Size: {size}\")\n"
   ],
   "outputs": [
    {
     "name": "stdout",
     "output_type": "stream",
     "text": [
      "Total NaN values: 0\n",
      "Cleaned and Sorted Shoe Sizes (US):\n",
      "Size: 1.0\n",
      "Size: 1.5\n",
      "Size: 2.0\n",
      "Size: 2.5\n",
      "Size: 3.0\n",
      "Size: 3.5\n",
      "Size: 4.0\n",
      "Size: 4.5\n",
      "Size: 5.0\n",
      "Size: 5.5\n",
      "Size: 6.0\n",
      "Size: 6.5\n",
      "Size: 7.0\n",
      "Size: 7.5\n",
      "Size: 8.0\n",
      "Size: 8.5\n",
      "Size: 9.0\n",
      "Size: 9.5\n",
      "Size: 10.0\n",
      "Size: 10.5\n",
      "Size: 11.0\n",
      "Size: 11.5\n",
      "Size: 12.0\n",
      "Size: 12.5\n",
      "Size: 13.0\n",
      "Size: 13.5\n",
      "Size: 14.0\n",
      "Size: 14.5\n",
      "Size: 15.0\n",
      "Size: 16.0\n",
      "Size: 17.0\n",
      "Size: 18.0\n",
      "Size: 19.0\n",
      "Size: 20.0\n"
     ]
    }
   ],
   "execution_count": 117
  },
  {
   "cell_type": "code",
   "id": "1cabd15f",
   "metadata": {
    "ExecuteTime": {
     "end_time": "2025-04-01T21:51:03.432360Z",
     "start_time": "2025-04-01T21:51:03.424557Z"
    }
   },
   "source": [
    "shoes_fact.head(5)"
   ],
   "outputs": [
    {
     "name": "stderr",
     "output_type": "stream",
     "text": [
      "/opt/homebrew/anaconda3/lib/python3.11/site-packages/IPython/core/formatters.py:344: FutureWarning: Index.format is deprecated and will be removed in a future version. Convert using index.astype(str) or index.map(formatter) instead.\n",
      "  return method()\n",
      "/opt/homebrew/anaconda3/lib/python3.11/site-packages/IPython/core/formatters.py:344: FutureWarning: RangeIndex.format is deprecated and will be removed in a future version. Convert using index.astype(str) or index.map(formatter) instead.\n",
      "  return method()\n"
     ]
    },
    {
     "data": {
      "text/plain": [
       "      SN      id  price  category  size  availability        date  \\\n",
       "0  63575  HP9426   60.0  sneakers   4.5             0  07/01/2025   \n",
       "1  63576  HP9426   60.0  sneakers   5.0             0  07/01/2025   \n",
       "2  63577  HP9426   60.0  sneakers   6.0             0  07/01/2025   \n",
       "3  63578  HP9426   60.0  sneakers   6.5             0  07/01/2025   \n",
       "4  63579  HP9426   60.0  sneakers   7.0             1  07/01/2025   \n",
       "\n",
       "  country_code                name best_for_wear  gender  dominant_color  \\\n",
       "0           DE  Breaknet 2.0 Schuh          City  Unisex              11   \n",
       "1           DE  Breaknet 2.0 Schuh          City  Unisex              11   \n",
       "2           DE  Breaknet 2.0 Schuh          City  Unisex              11   \n",
       "3           DE  Breaknet 2.0 Schuh          City  Unisex              11   \n",
       "4           DE  Breaknet 2.0 Schuh          City  Unisex              11   \n",
       "\n",
       "   sub_color1  sub_color2 currency shoe_metric  \n",
       "0           0          10     euro         usa  \n",
       "1           0          10     euro         usa  \n",
       "2           0          10     euro         usa  \n",
       "3           0          10     euro         usa  \n",
       "4           0          10     euro         usa  "
      ],
      "text/html": [
       "<div>\n",
       "<style scoped>\n",
       "    .dataframe tbody tr th:only-of-type {\n",
       "        vertical-align: middle;\n",
       "    }\n",
       "\n",
       "    .dataframe tbody tr th {\n",
       "        vertical-align: top;\n",
       "    }\n",
       "\n",
       "    .dataframe thead th {\n",
       "        text-align: right;\n",
       "    }\n",
       "</style>\n",
       "<table border=\"1\" class=\"dataframe\">\n",
       "  <thead>\n",
       "    <tr style=\"text-align: right;\">\n",
       "      <th></th>\n",
       "      <th>SN</th>\n",
       "      <th>id</th>\n",
       "      <th>price</th>\n",
       "      <th>category</th>\n",
       "      <th>size</th>\n",
       "      <th>availability</th>\n",
       "      <th>date</th>\n",
       "      <th>country_code</th>\n",
       "      <th>name</th>\n",
       "      <th>best_for_wear</th>\n",
       "      <th>gender</th>\n",
       "      <th>dominant_color</th>\n",
       "      <th>sub_color1</th>\n",
       "      <th>sub_color2</th>\n",
       "      <th>currency</th>\n",
       "      <th>shoe_metric</th>\n",
       "    </tr>\n",
       "  </thead>\n",
       "  <tbody>\n",
       "    <tr>\n",
       "      <th>0</th>\n",
       "      <td>63575</td>\n",
       "      <td>HP9426</td>\n",
       "      <td>60.0</td>\n",
       "      <td>sneakers</td>\n",
       "      <td>4.5</td>\n",
       "      <td>0</td>\n",
       "      <td>07/01/2025</td>\n",
       "      <td>DE</td>\n",
       "      <td>Breaknet 2.0 Schuh</td>\n",
       "      <td>City</td>\n",
       "      <td>Unisex</td>\n",
       "      <td>11</td>\n",
       "      <td>0</td>\n",
       "      <td>10</td>\n",
       "      <td>euro</td>\n",
       "      <td>usa</td>\n",
       "    </tr>\n",
       "    <tr>\n",
       "      <th>1</th>\n",
       "      <td>63576</td>\n",
       "      <td>HP9426</td>\n",
       "      <td>60.0</td>\n",
       "      <td>sneakers</td>\n",
       "      <td>5.0</td>\n",
       "      <td>0</td>\n",
       "      <td>07/01/2025</td>\n",
       "      <td>DE</td>\n",
       "      <td>Breaknet 2.0 Schuh</td>\n",
       "      <td>City</td>\n",
       "      <td>Unisex</td>\n",
       "      <td>11</td>\n",
       "      <td>0</td>\n",
       "      <td>10</td>\n",
       "      <td>euro</td>\n",
       "      <td>usa</td>\n",
       "    </tr>\n",
       "    <tr>\n",
       "      <th>2</th>\n",
       "      <td>63577</td>\n",
       "      <td>HP9426</td>\n",
       "      <td>60.0</td>\n",
       "      <td>sneakers</td>\n",
       "      <td>6.0</td>\n",
       "      <td>0</td>\n",
       "      <td>07/01/2025</td>\n",
       "      <td>DE</td>\n",
       "      <td>Breaknet 2.0 Schuh</td>\n",
       "      <td>City</td>\n",
       "      <td>Unisex</td>\n",
       "      <td>11</td>\n",
       "      <td>0</td>\n",
       "      <td>10</td>\n",
       "      <td>euro</td>\n",
       "      <td>usa</td>\n",
       "    </tr>\n",
       "    <tr>\n",
       "      <th>3</th>\n",
       "      <td>63578</td>\n",
       "      <td>HP9426</td>\n",
       "      <td>60.0</td>\n",
       "      <td>sneakers</td>\n",
       "      <td>6.5</td>\n",
       "      <td>0</td>\n",
       "      <td>07/01/2025</td>\n",
       "      <td>DE</td>\n",
       "      <td>Breaknet 2.0 Schuh</td>\n",
       "      <td>City</td>\n",
       "      <td>Unisex</td>\n",
       "      <td>11</td>\n",
       "      <td>0</td>\n",
       "      <td>10</td>\n",
       "      <td>euro</td>\n",
       "      <td>usa</td>\n",
       "    </tr>\n",
       "    <tr>\n",
       "      <th>4</th>\n",
       "      <td>63579</td>\n",
       "      <td>HP9426</td>\n",
       "      <td>60.0</td>\n",
       "      <td>sneakers</td>\n",
       "      <td>7.0</td>\n",
       "      <td>1</td>\n",
       "      <td>07/01/2025</td>\n",
       "      <td>DE</td>\n",
       "      <td>Breaknet 2.0 Schuh</td>\n",
       "      <td>City</td>\n",
       "      <td>Unisex</td>\n",
       "      <td>11</td>\n",
       "      <td>0</td>\n",
       "      <td>10</td>\n",
       "      <td>euro</td>\n",
       "      <td>usa</td>\n",
       "    </tr>\n",
       "  </tbody>\n",
       "</table>\n",
       "</div>"
      ]
     },
     "execution_count": 118,
     "metadata": {},
     "output_type": "execute_result"
    }
   ],
   "execution_count": 118
  },
  {
   "cell_type": "markdown",
   "id": "e3e28e06",
   "metadata": {},
   "source": [
    "Since all shoe sizes have now been standardized to the 'USA' metric for universality, we have removed the `shoe_metric` column to eliminate redundancy. Additionally, the `size` column has been renamed to `us_size` to enhance clarity and better reflect the current format of shoe sizes, ensuring consistency and ease of analysis moving forward.\n"
   ]
  },
  {
   "cell_type": "code",
   "id": "a823dffc",
   "metadata": {
    "ExecuteTime": {
     "end_time": "2025-04-01T21:51:03.528070Z",
     "start_time": "2025-04-01T21:51:03.433222Z"
    }
   },
   "source": [
    "shoes_fact = shoes_fact.drop(columns=[\"shoe_metric\"])\n",
    "shoes_fact = shoes_fact.rename(columns={\"size\": \"us_size\"})\n",
    "\n",
    "shoes_fact.head(5)"
   ],
   "outputs": [
    {
     "name": "stderr",
     "output_type": "stream",
     "text": [
      "/opt/homebrew/anaconda3/lib/python3.11/site-packages/IPython/core/formatters.py:344: FutureWarning: Index.format is deprecated and will be removed in a future version. Convert using index.astype(str) or index.map(formatter) instead.\n",
      "  return method()\n",
      "/opt/homebrew/anaconda3/lib/python3.11/site-packages/IPython/core/formatters.py:344: FutureWarning: RangeIndex.format is deprecated and will be removed in a future version. Convert using index.astype(str) or index.map(formatter) instead.\n",
      "  return method()\n"
     ]
    },
    {
     "data": {
      "text/plain": [
       "      SN      id  price  category  us_size  availability        date  \\\n",
       "0  63575  HP9426   60.0  sneakers      4.5             0  07/01/2025   \n",
       "1  63576  HP9426   60.0  sneakers      5.0             0  07/01/2025   \n",
       "2  63577  HP9426   60.0  sneakers      6.0             0  07/01/2025   \n",
       "3  63578  HP9426   60.0  sneakers      6.5             0  07/01/2025   \n",
       "4  63579  HP9426   60.0  sneakers      7.0             1  07/01/2025   \n",
       "\n",
       "  country_code                name best_for_wear  gender  dominant_color  \\\n",
       "0           DE  Breaknet 2.0 Schuh          City  Unisex              11   \n",
       "1           DE  Breaknet 2.0 Schuh          City  Unisex              11   \n",
       "2           DE  Breaknet 2.0 Schuh          City  Unisex              11   \n",
       "3           DE  Breaknet 2.0 Schuh          City  Unisex              11   \n",
       "4           DE  Breaknet 2.0 Schuh          City  Unisex              11   \n",
       "\n",
       "   sub_color1  sub_color2 currency  \n",
       "0           0          10     euro  \n",
       "1           0          10     euro  \n",
       "2           0          10     euro  \n",
       "3           0          10     euro  \n",
       "4           0          10     euro  "
      ],
      "text/html": [
       "<div>\n",
       "<style scoped>\n",
       "    .dataframe tbody tr th:only-of-type {\n",
       "        vertical-align: middle;\n",
       "    }\n",
       "\n",
       "    .dataframe tbody tr th {\n",
       "        vertical-align: top;\n",
       "    }\n",
       "\n",
       "    .dataframe thead th {\n",
       "        text-align: right;\n",
       "    }\n",
       "</style>\n",
       "<table border=\"1\" class=\"dataframe\">\n",
       "  <thead>\n",
       "    <tr style=\"text-align: right;\">\n",
       "      <th></th>\n",
       "      <th>SN</th>\n",
       "      <th>id</th>\n",
       "      <th>price</th>\n",
       "      <th>category</th>\n",
       "      <th>us_size</th>\n",
       "      <th>availability</th>\n",
       "      <th>date</th>\n",
       "      <th>country_code</th>\n",
       "      <th>name</th>\n",
       "      <th>best_for_wear</th>\n",
       "      <th>gender</th>\n",
       "      <th>dominant_color</th>\n",
       "      <th>sub_color1</th>\n",
       "      <th>sub_color2</th>\n",
       "      <th>currency</th>\n",
       "    </tr>\n",
       "  </thead>\n",
       "  <tbody>\n",
       "    <tr>\n",
       "      <th>0</th>\n",
       "      <td>63575</td>\n",
       "      <td>HP9426</td>\n",
       "      <td>60.0</td>\n",
       "      <td>sneakers</td>\n",
       "      <td>4.5</td>\n",
       "      <td>0</td>\n",
       "      <td>07/01/2025</td>\n",
       "      <td>DE</td>\n",
       "      <td>Breaknet 2.0 Schuh</td>\n",
       "      <td>City</td>\n",
       "      <td>Unisex</td>\n",
       "      <td>11</td>\n",
       "      <td>0</td>\n",
       "      <td>10</td>\n",
       "      <td>euro</td>\n",
       "    </tr>\n",
       "    <tr>\n",
       "      <th>1</th>\n",
       "      <td>63576</td>\n",
       "      <td>HP9426</td>\n",
       "      <td>60.0</td>\n",
       "      <td>sneakers</td>\n",
       "      <td>5.0</td>\n",
       "      <td>0</td>\n",
       "      <td>07/01/2025</td>\n",
       "      <td>DE</td>\n",
       "      <td>Breaknet 2.0 Schuh</td>\n",
       "      <td>City</td>\n",
       "      <td>Unisex</td>\n",
       "      <td>11</td>\n",
       "      <td>0</td>\n",
       "      <td>10</td>\n",
       "      <td>euro</td>\n",
       "    </tr>\n",
       "    <tr>\n",
       "      <th>2</th>\n",
       "      <td>63577</td>\n",
       "      <td>HP9426</td>\n",
       "      <td>60.0</td>\n",
       "      <td>sneakers</td>\n",
       "      <td>6.0</td>\n",
       "      <td>0</td>\n",
       "      <td>07/01/2025</td>\n",
       "      <td>DE</td>\n",
       "      <td>Breaknet 2.0 Schuh</td>\n",
       "      <td>City</td>\n",
       "      <td>Unisex</td>\n",
       "      <td>11</td>\n",
       "      <td>0</td>\n",
       "      <td>10</td>\n",
       "      <td>euro</td>\n",
       "    </tr>\n",
       "    <tr>\n",
       "      <th>3</th>\n",
       "      <td>63578</td>\n",
       "      <td>HP9426</td>\n",
       "      <td>60.0</td>\n",
       "      <td>sneakers</td>\n",
       "      <td>6.5</td>\n",
       "      <td>0</td>\n",
       "      <td>07/01/2025</td>\n",
       "      <td>DE</td>\n",
       "      <td>Breaknet 2.0 Schuh</td>\n",
       "      <td>City</td>\n",
       "      <td>Unisex</td>\n",
       "      <td>11</td>\n",
       "      <td>0</td>\n",
       "      <td>10</td>\n",
       "      <td>euro</td>\n",
       "    </tr>\n",
       "    <tr>\n",
       "      <th>4</th>\n",
       "      <td>63579</td>\n",
       "      <td>HP9426</td>\n",
       "      <td>60.0</td>\n",
       "      <td>sneakers</td>\n",
       "      <td>7.0</td>\n",
       "      <td>1</td>\n",
       "      <td>07/01/2025</td>\n",
       "      <td>DE</td>\n",
       "      <td>Breaknet 2.0 Schuh</td>\n",
       "      <td>City</td>\n",
       "      <td>Unisex</td>\n",
       "      <td>11</td>\n",
       "      <td>0</td>\n",
       "      <td>10</td>\n",
       "      <td>euro</td>\n",
       "    </tr>\n",
       "  </tbody>\n",
       "</table>\n",
       "</div>"
      ]
     },
     "execution_count": 119,
     "metadata": {},
     "output_type": "execute_result"
    }
   ],
   "execution_count": 119
  },
  {
   "cell_type": "markdown",
   "id": "5c9082a4",
   "metadata": {},
   "source": [
    "## Exploratory Data Analysis (EDA)"
   ]
  },
  {
   "cell_type": "markdown",
   "id": "92d74f8b",
   "metadata": {},
   "source": [
    "### EDA Questions:\n",
    "##### Univariate EDA\n",
    "1. Which shoe category has the most listings on the Adidas webstore?\n",
    "2. Does the Adidas webstore list a higher number of shoes for a specific gender (Men, Women, Kids, Unisex)?\n",
    "3. What are the most common \"best for wear\" categories?\n",
    "\n"
   ]
  },
  {
   "cell_type": "markdown",
   "id": "f2c3dee3",
   "metadata": {},
   "source": [
    "### Question 1  - Which shoe category has the most listings on the Adidas webstore?"
   ]
  },
  {
   "cell_type": "code",
   "id": "1f5a1851",
   "metadata": {
    "ExecuteTime": {
     "end_time": "2025-04-01T21:51:03.574818Z",
     "start_time": "2025-04-01T21:51:03.528819Z"
    }
   },
   "source": [
    "#  Aggregate total availability per shoe model (id)\n",
    "availability_per_id = shoes_fact.groupby('id', as_index=False)['availability'].sum()\n",
    "\n",
    "# Merge back to retain category information \n",
    "df_unique = shoes_fact[['id', 'category']].drop_duplicates()\n",
    "df_merged = df_unique.merge(availability_per_id, on='id')\n",
    "\n",
    "# Count categories weighted by total availability\n",
    "category_weighted = df_merged.groupby('category')['availability'].sum().sort_values(ascending=False)\n",
    "\n",
    "print(\"\\nCategory Frequency Distribution (Weighted by Availability):\")\n",
    "print(category_weighted.to_string())\n"
   ],
   "outputs": [
    {
     "name": "stdout",
     "output_type": "stream",
     "text": [
      "\n",
      "Category Frequency Distribution (Weighted by Availability):\n",
      "category\n",
      "running-shoes         656736\n",
      "sneakers              623278\n",
      "walking-shoes         565449\n",
      "athletic_sneakers     483330\n",
      "outdoor-shoes         305995\n",
      "gym_training-shoes     82709\n",
      "tennis-shoes           77599\n",
      "hiking-shoes           73241\n",
      "football-shoes         64251\n",
      "occer-shoes            49936\n"
     ]
    }
   ],
   "execution_count": 120
  },
  {
   "cell_type": "code",
   "id": "0e340fe2",
   "metadata": {
    "ExecuteTime": {
     "end_time": "2025-04-01T21:51:03.875391Z",
     "start_time": "2025-04-01T21:51:03.575445Z"
    }
   },
   "source": [
    "top_n = 10 \n",
    "category_counts = category_weighted.head(top_n)  \n",
    "\n",
    "plt.figure(figsize=(10, 6))\n",
    "sns.barplot(x=category_counts.index, \n",
    "            y=category_counts.values, \n",
    "            hue=category_counts.index, \n",
    "            palette=\"viridis\", \n",
    "            legend=False)\n",
    "\n",
    "plt.xticks(rotation=45)\n",
    "plt.xlabel(\"Category\")\n",
    "plt.ylabel(\"Total Availability\")\n",
    "plt.title(f\"Top {top_n} Most Frequent Shoe Categories (Weighted by Availability)\")\n",
    "\n",
    "plt.show()\n"
   ],
   "outputs": [
    {
     "ename": "AttributeError",
     "evalue": "Rectangle.set() got an unexpected keyword argument 'legend'",
     "output_type": "error",
     "traceback": [
      "\u001B[0;31m---------------------------------------------------------------------------\u001B[0m",
      "\u001B[0;31mAttributeError\u001B[0m                            Traceback (most recent call last)",
      "Cell \u001B[0;32mIn[121], line 5\u001B[0m\n\u001B[1;32m      2\u001B[0m category_counts \u001B[38;5;241m=\u001B[39m category_weighted\u001B[38;5;241m.\u001B[39mhead(top_n)  \n\u001B[1;32m      4\u001B[0m plt\u001B[38;5;241m.\u001B[39mfigure(figsize\u001B[38;5;241m=\u001B[39m(\u001B[38;5;241m10\u001B[39m, \u001B[38;5;241m6\u001B[39m))\n\u001B[0;32m----> 5\u001B[0m sns\u001B[38;5;241m.\u001B[39mbarplot(x\u001B[38;5;241m=\u001B[39mcategory_counts\u001B[38;5;241m.\u001B[39mindex, \n\u001B[1;32m      6\u001B[0m             y\u001B[38;5;241m=\u001B[39mcategory_counts\u001B[38;5;241m.\u001B[39mvalues, \n\u001B[1;32m      7\u001B[0m             hue\u001B[38;5;241m=\u001B[39mcategory_counts\u001B[38;5;241m.\u001B[39mindex, \n\u001B[1;32m      8\u001B[0m             palette\u001B[38;5;241m=\u001B[39m\u001B[38;5;124m\"\u001B[39m\u001B[38;5;124mviridis\u001B[39m\u001B[38;5;124m\"\u001B[39m, \n\u001B[1;32m      9\u001B[0m             legend\u001B[38;5;241m=\u001B[39m\u001B[38;5;28;01mFalse\u001B[39;00m)\n\u001B[1;32m     11\u001B[0m plt\u001B[38;5;241m.\u001B[39mxticks(rotation\u001B[38;5;241m=\u001B[39m\u001B[38;5;241m45\u001B[39m)\n\u001B[1;32m     12\u001B[0m plt\u001B[38;5;241m.\u001B[39mxlabel(\u001B[38;5;124m\"\u001B[39m\u001B[38;5;124mCategory\u001B[39m\u001B[38;5;124m\"\u001B[39m)\n",
      "File \u001B[0;32m/opt/homebrew/anaconda3/lib/python3.11/site-packages/seaborn/categorical.py:2763\u001B[0m, in \u001B[0;36mbarplot\u001B[0;34m(data, x, y, hue, order, hue_order, estimator, errorbar, n_boot, units, seed, orient, color, palette, saturation, width, errcolor, errwidth, capsize, dodge, ci, ax, **kwargs)\u001B[0m\n\u001B[1;32m   2760\u001B[0m \u001B[38;5;28;01mif\u001B[39;00m ax \u001B[38;5;129;01mis\u001B[39;00m \u001B[38;5;28;01mNone\u001B[39;00m:\n\u001B[1;32m   2761\u001B[0m     ax \u001B[38;5;241m=\u001B[39m plt\u001B[38;5;241m.\u001B[39mgca()\n\u001B[0;32m-> 2763\u001B[0m plotter\u001B[38;5;241m.\u001B[39mplot(ax, kwargs)\n\u001B[1;32m   2764\u001B[0m \u001B[38;5;28;01mreturn\u001B[39;00m ax\n",
      "File \u001B[0;32m/opt/homebrew/anaconda3/lib/python3.11/site-packages/seaborn/categorical.py:1586\u001B[0m, in \u001B[0;36m_BarPlotter.plot\u001B[0;34m(self, ax, bar_kws)\u001B[0m\n\u001B[1;32m   1584\u001B[0m \u001B[38;5;28;01mdef\u001B[39;00m \u001B[38;5;21mplot\u001B[39m(\u001B[38;5;28mself\u001B[39m, ax, bar_kws):\n\u001B[1;32m   1585\u001B[0m \u001B[38;5;250m    \u001B[39m\u001B[38;5;124;03m\"\"\"Make the plot.\"\"\"\u001B[39;00m\n\u001B[0;32m-> 1586\u001B[0m     \u001B[38;5;28mself\u001B[39m\u001B[38;5;241m.\u001B[39mdraw_bars(ax, bar_kws)\n\u001B[1;32m   1587\u001B[0m     \u001B[38;5;28mself\u001B[39m\u001B[38;5;241m.\u001B[39mannotate_axes(ax)\n\u001B[1;32m   1588\u001B[0m     \u001B[38;5;28;01mif\u001B[39;00m \u001B[38;5;28mself\u001B[39m\u001B[38;5;241m.\u001B[39morient \u001B[38;5;241m==\u001B[39m \u001B[38;5;124m\"\u001B[39m\u001B[38;5;124mh\u001B[39m\u001B[38;5;124m\"\u001B[39m:\n",
      "File \u001B[0;32m/opt/homebrew/anaconda3/lib/python3.11/site-packages/seaborn/categorical.py:1569\u001B[0m, in \u001B[0;36m_BarPlotter.draw_bars\u001B[0;34m(self, ax, kws)\u001B[0m\n\u001B[1;32m   1565\u001B[0m \u001B[38;5;28;01mfor\u001B[39;00m j, hue_level \u001B[38;5;129;01min\u001B[39;00m \u001B[38;5;28menumerate\u001B[39m(\u001B[38;5;28mself\u001B[39m\u001B[38;5;241m.\u001B[39mhue_names):\n\u001B[1;32m   1566\u001B[0m \n\u001B[1;32m   1567\u001B[0m     \u001B[38;5;66;03m# Draw the bars\u001B[39;00m\n\u001B[1;32m   1568\u001B[0m     offpos \u001B[38;5;241m=\u001B[39m barpos \u001B[38;5;241m+\u001B[39m \u001B[38;5;28mself\u001B[39m\u001B[38;5;241m.\u001B[39mhue_offsets[j]\n\u001B[0;32m-> 1569\u001B[0m     barfunc(offpos, \u001B[38;5;28mself\u001B[39m\u001B[38;5;241m.\u001B[39mstatistic[:, j], \u001B[38;5;28mself\u001B[39m\u001B[38;5;241m.\u001B[39mnested_width,\n\u001B[1;32m   1570\u001B[0m             color\u001B[38;5;241m=\u001B[39m\u001B[38;5;28mself\u001B[39m\u001B[38;5;241m.\u001B[39mcolors[j], align\u001B[38;5;241m=\u001B[39m\u001B[38;5;124m\"\u001B[39m\u001B[38;5;124mcenter\u001B[39m\u001B[38;5;124m\"\u001B[39m,\n\u001B[1;32m   1571\u001B[0m             label\u001B[38;5;241m=\u001B[39mhue_level, \u001B[38;5;241m*\u001B[39m\u001B[38;5;241m*\u001B[39mkws)\n\u001B[1;32m   1573\u001B[0m     \u001B[38;5;66;03m# Draw the confidence intervals\u001B[39;00m\n\u001B[1;32m   1574\u001B[0m     \u001B[38;5;28;01mif\u001B[39;00m \u001B[38;5;28mself\u001B[39m\u001B[38;5;241m.\u001B[39mconfint\u001B[38;5;241m.\u001B[39msize:\n",
      "File \u001B[0;32m/opt/homebrew/anaconda3/lib/python3.11/site-packages/matplotlib/__init__.py:1446\u001B[0m, in \u001B[0;36m_preprocess_data.<locals>.inner\u001B[0;34m(ax, data, *args, **kwargs)\u001B[0m\n\u001B[1;32m   1443\u001B[0m \u001B[38;5;129m@functools\u001B[39m\u001B[38;5;241m.\u001B[39mwraps(func)\n\u001B[1;32m   1444\u001B[0m \u001B[38;5;28;01mdef\u001B[39;00m \u001B[38;5;21minner\u001B[39m(ax, \u001B[38;5;241m*\u001B[39margs, data\u001B[38;5;241m=\u001B[39m\u001B[38;5;28;01mNone\u001B[39;00m, \u001B[38;5;241m*\u001B[39m\u001B[38;5;241m*\u001B[39mkwargs):\n\u001B[1;32m   1445\u001B[0m     \u001B[38;5;28;01mif\u001B[39;00m data \u001B[38;5;129;01mis\u001B[39;00m \u001B[38;5;28;01mNone\u001B[39;00m:\n\u001B[0;32m-> 1446\u001B[0m         \u001B[38;5;28;01mreturn\u001B[39;00m func(ax, \u001B[38;5;241m*\u001B[39m\u001B[38;5;28mmap\u001B[39m(sanitize_sequence, args), \u001B[38;5;241m*\u001B[39m\u001B[38;5;241m*\u001B[39mkwargs)\n\u001B[1;32m   1448\u001B[0m     bound \u001B[38;5;241m=\u001B[39m new_sig\u001B[38;5;241m.\u001B[39mbind(ax, \u001B[38;5;241m*\u001B[39margs, \u001B[38;5;241m*\u001B[39m\u001B[38;5;241m*\u001B[39mkwargs)\n\u001B[1;32m   1449\u001B[0m     auto_label \u001B[38;5;241m=\u001B[39m (bound\u001B[38;5;241m.\u001B[39marguments\u001B[38;5;241m.\u001B[39mget(label_namer)\n\u001B[1;32m   1450\u001B[0m                   \u001B[38;5;129;01mor\u001B[39;00m bound\u001B[38;5;241m.\u001B[39mkwargs\u001B[38;5;241m.\u001B[39mget(label_namer))\n",
      "File \u001B[0;32m/opt/homebrew/anaconda3/lib/python3.11/site-packages/matplotlib/axes/_axes.py:2480\u001B[0m, in \u001B[0;36mAxes.bar\u001B[0;34m(self, x, height, width, bottom, align, **kwargs)\u001B[0m\n\u001B[1;32m   2471\u001B[0m \u001B[38;5;28;01mfor\u001B[39;00m l, b, w, h, c, e, lw, htch, lbl \u001B[38;5;129;01min\u001B[39;00m args:\n\u001B[1;32m   2472\u001B[0m     r \u001B[38;5;241m=\u001B[39m mpatches\u001B[38;5;241m.\u001B[39mRectangle(\n\u001B[1;32m   2473\u001B[0m         xy\u001B[38;5;241m=\u001B[39m(l, b), width\u001B[38;5;241m=\u001B[39mw, height\u001B[38;5;241m=\u001B[39mh,\n\u001B[1;32m   2474\u001B[0m         facecolor\u001B[38;5;241m=\u001B[39mc,\n\u001B[0;32m   (...)\u001B[0m\n\u001B[1;32m   2478\u001B[0m         hatch\u001B[38;5;241m=\u001B[39mhtch,\n\u001B[1;32m   2479\u001B[0m         )\n\u001B[0;32m-> 2480\u001B[0m     r\u001B[38;5;241m.\u001B[39m_internal_update(kwargs)\n\u001B[1;32m   2481\u001B[0m     r\u001B[38;5;241m.\u001B[39mget_path()\u001B[38;5;241m.\u001B[39m_interpolation_steps \u001B[38;5;241m=\u001B[39m \u001B[38;5;241m100\u001B[39m\n\u001B[1;32m   2482\u001B[0m     \u001B[38;5;28;01mif\u001B[39;00m orientation \u001B[38;5;241m==\u001B[39m \u001B[38;5;124m'\u001B[39m\u001B[38;5;124mvertical\u001B[39m\u001B[38;5;124m'\u001B[39m:\n",
      "File \u001B[0;32m/opt/homebrew/anaconda3/lib/python3.11/site-packages/matplotlib/artist.py:1223\u001B[0m, in \u001B[0;36mArtist._internal_update\u001B[0;34m(self, kwargs)\u001B[0m\n\u001B[1;32m   1216\u001B[0m \u001B[38;5;28;01mdef\u001B[39;00m \u001B[38;5;21m_internal_update\u001B[39m(\u001B[38;5;28mself\u001B[39m, kwargs):\n\u001B[1;32m   1217\u001B[0m \u001B[38;5;250m    \u001B[39m\u001B[38;5;124;03m\"\"\"\u001B[39;00m\n\u001B[1;32m   1218\u001B[0m \u001B[38;5;124;03m    Update artist properties without prenormalizing them, but generating\u001B[39;00m\n\u001B[1;32m   1219\u001B[0m \u001B[38;5;124;03m    errors as if calling `set`.\u001B[39;00m\n\u001B[1;32m   1220\u001B[0m \n\u001B[1;32m   1221\u001B[0m \u001B[38;5;124;03m    The lack of prenormalization is to maintain backcompatibility.\u001B[39;00m\n\u001B[1;32m   1222\u001B[0m \u001B[38;5;124;03m    \"\"\"\u001B[39;00m\n\u001B[0;32m-> 1223\u001B[0m     \u001B[38;5;28;01mreturn\u001B[39;00m \u001B[38;5;28mself\u001B[39m\u001B[38;5;241m.\u001B[39m_update_props(\n\u001B[1;32m   1224\u001B[0m         kwargs, \u001B[38;5;124m\"\u001B[39m\u001B[38;5;132;01m{cls.__name__}\u001B[39;00m\u001B[38;5;124m.set() got an unexpected keyword argument \u001B[39m\u001B[38;5;124m\"\u001B[39m\n\u001B[1;32m   1225\u001B[0m         \u001B[38;5;124m\"\u001B[39m\u001B[38;5;132;01m{prop_name!r}\u001B[39;00m\u001B[38;5;124m\"\u001B[39m)\n",
      "File \u001B[0;32m/opt/homebrew/anaconda3/lib/python3.11/site-packages/matplotlib/artist.py:1197\u001B[0m, in \u001B[0;36mArtist._update_props\u001B[0;34m(self, props, errfmt)\u001B[0m\n\u001B[1;32m   1195\u001B[0m             func \u001B[38;5;241m=\u001B[39m \u001B[38;5;28mgetattr\u001B[39m(\u001B[38;5;28mself\u001B[39m, \u001B[38;5;124mf\u001B[39m\u001B[38;5;124m\"\u001B[39m\u001B[38;5;124mset_\u001B[39m\u001B[38;5;132;01m{\u001B[39;00mk\u001B[38;5;132;01m}\u001B[39;00m\u001B[38;5;124m\"\u001B[39m, \u001B[38;5;28;01mNone\u001B[39;00m)\n\u001B[1;32m   1196\u001B[0m             \u001B[38;5;28;01mif\u001B[39;00m \u001B[38;5;129;01mnot\u001B[39;00m \u001B[38;5;28mcallable\u001B[39m(func):\n\u001B[0;32m-> 1197\u001B[0m                 \u001B[38;5;28;01mraise\u001B[39;00m \u001B[38;5;167;01mAttributeError\u001B[39;00m(\n\u001B[1;32m   1198\u001B[0m                     errfmt\u001B[38;5;241m.\u001B[39mformat(\u001B[38;5;28mcls\u001B[39m\u001B[38;5;241m=\u001B[39m\u001B[38;5;28mtype\u001B[39m(\u001B[38;5;28mself\u001B[39m), prop_name\u001B[38;5;241m=\u001B[39mk))\n\u001B[1;32m   1199\u001B[0m             ret\u001B[38;5;241m.\u001B[39mappend(func(v))\n\u001B[1;32m   1200\u001B[0m \u001B[38;5;28;01mif\u001B[39;00m ret:\n",
      "\u001B[0;31mAttributeError\u001B[0m: Rectangle.set() got an unexpected keyword argument 'legend'"
     ]
    },
    {
     "data": {
      "text/plain": [
       "<Figure size 1000x600 with 1 Axes>"
      ],
      "image/png": "[encoded data removed]"
     },
     "metadata": {},
     "output_type": "display_data"
    }
   ],
   "execution_count": 121
  },
  {
   "cell_type": "code",
   "id": "e0035a5e",
   "metadata": {},
   "source": [
    "category_precentage = shoes_fact['category'].value_counts(normalize=True) * 100\n",
    "print(category_precentage)"
   ],
   "outputs": [],
   "execution_count": null
  },
  {
   "cell_type": "code",
   "id": "6cd2d309",
   "metadata": {},
   "source": [
    "categories = category_precentage.index.tolist()\n",
    "percentages = category_precentage.values.tolist()\n",
    "\n",
    "plt.figure(figsize=(8, 8))\n",
    "plt.pie(percentages, labels=categories, autopct='%1.1f%%', colors=plt.cm.Paired.colors)\n",
    "plt.title(\"Percentage of Each Shoe Category\")\n",
    "plt.show()\n"
   ],
   "outputs": [],
   "execution_count": null
  },
  {
   "cell_type": "markdown",
   "id": "eab3abce",
   "metadata": {},
   "source": [
    "### **Adidas Shoe Inventory Category Analysis**  \n",
    "\n",
    "The Adidas shoe inventory is dominated by **running shoes**, which account for **27.69%** of the total proportion and have the highest weighted frequency at **656,736**. This indicates a strong focus on running as a key category.  \n",
    "\n",
    "**Sneakers** follow closely, representing **24.96%** of the inventory with a weighted frequency of **623,278**, highlighting their popularity and broad appeal.  \n",
    "\n",
    "**Outdoor shoes** and **walking shoes** also hold significant shares, with proportions of **14.81%** and **11.95%**, respectively, and weighted frequencies of **305,995** and **565,449**. This suggests a balanced emphasis on both outdoor activities and casual wear.  \n",
    "\n",
    "Categories like **tennis shoes**, **gym training shoes**, and **football shoes** have smaller proportions, ranging from **3.27%** to **0.69%**, reflecting their niche appeal.  \n",
    "\n",
    "Overall, the inventory distribution aligns with Adidas's positioning as a brand catering to both performance and lifestyle footwear, with a clear focus on **running shoes** and **sneakers** as the core categories."
   ]
  },
  {
   "cell_type": "markdown",
   "id": "347c386a",
   "metadata": {},
   "source": [
    "### Question 2 - Does the Adidas webstore list a higher number of shoes for a specific gender (Men, Women, Kids, Unisex)?\n",
    "\n",
    "\n"
   ]
  },
  {
   "cell_type": "code",
   "id": "737cfe72",
   "metadata": {},
   "source": [
    "# Aggregate total availability per gender\n",
    "gender_counts = shoes_fact['gender'].value_counts()\n",
    "availability_per_gender = shoes_fact.groupby('gender')['availability'].sum().sort_values(ascending=False)\n",
    "\n",
    "print(\"\\nTotal Availability per Gender:\")\n",
    "print(availability_per_gender.to_string())\n"
   ],
   "outputs": [],
   "execution_count": null
  },
  {
   "cell_type": "code",
   "id": "7dba708a",
   "metadata": {},
   "source": [
    "plt.figure(figsize=(10, 6))\n",
    "sns.barplot(\n",
    "    x=availability_per_gender.index, \n",
    "    y=availability_per_gender.values, \n",
    "    hue=availability_per_gender.index, \n",
    "    palette=\"viridis\",\n",
    "    legend=False  \n",
    ")\n",
    "\n",
    "plt.xlabel(\"Gender Category\")\n",
    "plt.ylabel(\"Total Availability\")\n",
    "plt.title(\"Total Availability of Shoes by Gender\")\n",
    "plt.show()\n"
   ],
   "outputs": [],
   "execution_count": null
  },
  {
   "cell_type": "code",
   "id": "6029f61b",
   "metadata": {},
   "source": [
    "# Calculate availability percentage per gender\n",
    "availability_percentage = ((availability_per_gender / availability_per_gender.sum()) * 100).round(2)\n",
    "\n",
    "# Print availability percentages\n",
    "print(\"\\nGender Percentage Distribution (Based on Availability):\")\n",
    "print(availability_percentage)"
   ],
   "outputs": [],
   "execution_count": null
  },
  {
   "cell_type": "code",
   "id": "f3254d76",
   "metadata": {},
   "source": [
    "plt.figure(figsize=(8, 8))\n",
    "plt.pie(\n",
    "    gender_counts, \n",
    "    labels=gender_counts.index, \n",
    "    autopct='%1.1f%%', \n",
    "    colors=plt.cm.Paired(range(len(gender_counts)))\n",
    ")\n",
    "\n",
    "plt.title(\"Percentage of Each Shoe Gender Category\")\n",
    "plt.show()"
   ],
   "outputs": [],
   "execution_count": null
  },
  {
   "cell_type": "markdown",
   "id": "1e20e85d",
   "metadata": {},
   "source": [
    "### **Gender-Based Shoe Inventory Analysis**\n",
    "\n",
    "The Adidas webstore's shoe inventory distribution indicates that **Unisex shoes** make up the largest portion, with **758,211 entries (43.19%)**, suggesting that Adidas prioritizes versatile footwear that appeals to a broad audience.  \n",
    "\n",
    "**Women's shoes** follow at **431,651 (24.59%)**, reflecting a significant focus on gender-specific designs for female consumers. Similarly, **Kids' shoes** account for **426,602 (24.30%)**, showing a strong market presence for children's footwear.  \n",
    "\n",
    "**Men's shoes** represent the smallest share, with only **139,133 entries (7.93%)**, which is considerably lower than the other categories. This may indicate that Adidas places a stronger emphasis on unisex and women's footwear rather than exclusively male-oriented designs.  \n",
    "\n",
    "Overall, the inventory distribution suggests that Adidas prioritizes **unisex and women's categories**, possibly due to broader market appeal, evolving consumer preferences, or strategic product positioning. However, further analysis, including sales data, would be necessary to determine if this distribution aligns with actual purchasing behavior.\n"
   ]
  },
  {
   "cell_type": "markdown",
   "id": "b298fc70",
   "metadata": {},
   "source": [
    "### Question 3 - What are the most common \"best for wear\" categories?"
   ]
  },
  {
   "cell_type": "code",
   "id": "9240c757",
   "metadata": {},
   "source": [
    "best_for_wear_counts = shoes_fact[\"best_for_wear\"].value_counts()\n",
    "\n",
    "colors = sns.color_palette(\"Set2\", len(best_for_wear_counts))\n",
    "\n",
    "total = best_for_wear_counts.sum()\n",
    "labels = [f\"{label}\\n{count/total:.1%}\" for label, count in zip(best_for_wear_counts.index, best_for_wear_counts.values)]\n",
    "\n",
    "plt.figure(figsize=(18, 10))\n",
    "squarify.plot(\n",
    "    sizes=best_for_wear_counts.values, \n",
    "    label=labels, \n",
    "    color=colors,  \n",
    "    alpha=0.9\n",
    ")\n",
    "\n",
    "plt.axis(\"off\")\n",
    "plt.title(\"Treemap of Best-for-Wear Categories (with Percentage)\")\n",
    "plt.show()"
   ],
   "outputs": [],
   "execution_count": null
  },
  {
   "cell_type": "markdown",
   "id": "20d12c6b",
   "metadata": {},
   "source": [
    "The treemap shows that most Adidas shoes fall under the **\"Neutral\"** category, making up nearly **40%** of the dataset, indicating a strong preference for versatile footwear. **\"Racing\"** shoes follow at **12.2%**, suggesting significant demand for performance running. Lifestyle-oriented categories like **Everyday (6.2%)**, **City (5.5%)**, and **Comfort (4.3%)** are also well-represented, reflecting a balance between casual and performance footwear. \n",
    "\n",
    "Outdoor and walking shoes, such as **Day Hiking (3.8%)** and **Walking (3.5%)**, have a moderate presence, while sport-specific categories like **Padel Tennis (2.4%)** and **Trail Run (2.2%)** cater to niche markets. Smaller categories, including **Triathlon (0.2%)** and **Speed (0.3%)**, indicate Adidas' inclusion of specialized footwear, though in lower volumes.\n",
    "\n",
    "This distribution suggests that **Neutral** shoes dominate the \"Best-for-Wear\" category, while other categories have relatively small shares. Since **Neutral** is disproportionately large, including it in modeling may introduce bias, making it less useful for prediction. The model could default to predicting \"Neutral\" too often, potentially reducing the effectiveness of distinguishing other categories.\n"
   ]
  },
  {
   "cell_type": "markdown",
   "id": "bf07bc40",
   "metadata": {},
   "source": [
    "### Question 4 - What is the most common 'size' in Adidas website"
   ]
  },
  {
   "cell_type": "code",
   "id": "3f49d031",
   "metadata": {},
   "source": [
    "most_common_size = shoes_fact[\"us_size\"].value_counts()\n",
    "colors = sns.color_palette(\"Set2\", len(most_common_size))\n",
    "\n",
    "total = most_common_size.sum()\n",
    "labels = [f\"{label} ({count/total:.1%})\" for label, count in zip(most_common_size.index, most_common_size.values)]\n",
    "\n",
    "# Plot the treemap\n",
    "plt.figure(figsize=(18, 10))\n",
    "squarify.plot(\n",
    "    sizes=most_common_size.values, \n",
    "    label=labels, \n",
    "    color=colors,  \n",
    "    alpha=0.9\n",
    ")\n",
    "\n",
    "plt.axis(\"off\")\n",
    "plt.title(\"Treemap of Most Common Sizes (with Percentage in US Sizes)\")\n",
    "plt.show()"
   ],
   "outputs": [],
   "execution_count": null
  },
  {
   "cell_type": "markdown",
   "id": "f2c88752",
   "metadata": {},
   "source": [
    "With the treemap, we observed that the shoe sizes are fairly evenly distributed, with no significant skew toward any specific size. This balanced distribution is a positive aspect for analysis, as it suggests that the dataset is representative of a wide range of customer preferences. With sizes ranging from very small to very large, Adidas appears to cater to a diverse customer base, which is an ideal characteristic for making accurate predictions and insights without the risk of bias toward specific size categories.\n",
    "\n",
    "The most common sizes, such as **1.0, 7.5, 8.0, and 7.0**, have relatively high frequencies, indicating they are preferred by a larger portion of the customer base. This insight could be valuable for inventory planning and marketing strategies, as it highlights the sizes that customers are most likely to purchase.\n",
    "\n",
    "Additionally, the data appears to be of high quality, with minimal missing or malformed values, which is essential for conducting reliable analysis. The handling of size conversions across different metrics (such as US, UK, and EU) further ensures that the dataset is consistent and ready for analysis.\n",
    "\n",
    "Overall, the balanced size distribution and diverse range of shoe sizes in the Adidas dataset suggest that it is well-suited for predictive modeling and other analyses. The absence of skewed data or overrepresented sizes means that models trained on this data are likely to be more robust and generalized, helping Adidas make informed decisions regarding inventory, customer preferences, and demand forecasting. This ensures that Adidas is likely meeting the needs of its broad customer base while remaining competitive in the market.\n"
   ]
  },
  {
   "cell_type": "markdown",
   "id": "53dee496",
   "metadata": {},
   "source": [
    "### Bivariate EDA\n"
   ]
  },
  {
   "cell_type": "markdown",
   "id": "b646c3b0",
   "metadata": {},
   "source": [
    "In this section, the features or columns that may have a clear relationship with each other are investigated. Possible candidates that could have a pattern are identified as follows:\n",
    "\n",
    "1. Price vs Gender\n",
    "2. Dominant Color vs Gender"
   ]
  },
  {
   "cell_type": "markdown",
   "id": "830574ce",
   "metadata": {},
   "source": [
    "#### Price vs Gender\n",
    "\n",
    "A fairly common term is pink tax (the tendency for products marketed specifically toward women to be more expensive than those marketed toward men). It will be interesting to know if certain genders/categories of shoes are more expensive. "
   ]
  },
  {
   "cell_type": "code",
   "id": "c45817b2",
   "metadata": {},
   "source": [
    "plt.figure(figsize=(10, 6))\n",
    "sns.boxplot(x=\"gender\", y=\"price\", data=shoes_fact, palette=\"viridis\")\n",
    "plt.title(\"Gender vs Price Distribution\")\n",
    "plt.xlabel(\"Gender\")\n",
    "plt.ylabel(\"Price\")\n",
    "plt.show()\n"
   ],
   "outputs": [],
   "execution_count": null
  },
  {
   "cell_type": "code",
   "id": "1933d696",
   "metadata": {},
   "source": [
    "shoes_fact.groupby(\"gender\")[\"price\"].agg([\"mean\", \"median\", \"min\", \"max\"])"
   ],
   "outputs": [],
   "execution_count": null
  },
  {
   "cell_type": "code",
   "id": "25ec47cd",
   "metadata": {},
   "source": [
    "category_percentage = pd.crosstab(shoes_fact[\"dominant_color\"], shoes_fact[\"gender\"], normalize=\"index\") * 100\n",
    "\n",
    "\n",
    "category_percentage.plot(figsize=(10,6),kind=\"bar\", stacked=False, colormap=\"viridis\")\n",
    "\n",
    "plt.ylabel(\"Percentage\")\n",
    "plt.title(\"Percentage Distribution of gender within dominant color\")\n",
    "plt.legend(title=\"Gender\")\n",
    "plt.show()"
   ],
   "outputs": [],
   "execution_count": null
  },
  {
   "cell_type": "code",
   "id": "12859ccf",
   "metadata": {},
   "source": [
    "category_percentage"
   ],
   "outputs": [],
   "execution_count": null
  },
  {
   "cell_type": "markdown",
   "id": "7f04cf96",
   "metadata": {},
   "source": [
    "### Better Visualization"
   ]
  },
  {
   "cell_type": "code",
   "id": "bb3ff15f",
   "metadata": {},
   "source": [
    "num_colors = len(category_percentage)\n",
    "cols = 4  \n",
    "rows = -(-num_colors // cols)  \n",
    "fig, axes = plt.subplots(rows, cols, figsize=(15, 3 * rows))\n",
    "\n",
    "axes = axes.flatten()\n",
    "\n",
    "# Create a pie chart for each dominant color\n",
    "for i, (color, row) in enumerate(category_percentage.iterrows()):\n",
    "    axes[i].pie(row, labels=row.index, autopct='%1.1f%%', colors=plt.cm.Paired.colors)  # Use Paired for distinct colors\n",
    "    axes[i].set_title(color)\n",
    "\n",
    "for j in range(i + 1, len(axes)):\n",
    "    fig.delaxes(axes[j])\n",
    "\n",
    "plt.tight_layout()\n",
    "plt.show()\n"
   ],
   "outputs": [],
   "execution_count": null
  },
  {
   "cell_type": "markdown",
   "id": "de4a2a67",
   "metadata": {},
   "source": [
    "The distribution of price and gender seem to have no strong relationship."
   ]
  },
  {
   "cell_type": "markdown",
   "id": "7c2f7166",
   "metadata": {},
   "source": [
    "#### Dominant Color vs Gender"
   ]
  },
  {
   "cell_type": "markdown",
   "id": "ae123834",
   "metadata": {},
   "source": [
    "Some colors are often gendered. For example, pink is commonly thought of as a feminine color while blue is considered more of a masculine color. The dominant color may reveal a connection between color and gender."
   ]
  },
  {
   "cell_type": "code",
   "id": "38cf4756",
   "metadata": {},
   "source": [
    "category_percentage = pd.crosstab(shoes_fact[\"dominant_color\"], shoes_fact[\"gender\"], normalize=\"index\") * 100\n",
    "\n",
    "\n",
    "category_percentage.plot(figsize=(10, 6),kind=\"bar\", stacked=False, colormap=\"viridis\")\n",
    "\n",
    "plt.ylabel(\"Percentage\")\n",
    "plt.title(\"Percentage Distribution of gender within dominant color\")\n",
    "plt.legend(title=\"Gender\")\n",
    "plt.show()"
   ],
   "outputs": [],
   "execution_count": null
  },
  {
   "cell_type": "markdown",
   "id": "2612a631",
   "metadata": {},
   "source": [
    "In most of the categories, shoes labelled as unisex or women tend to occupy the largest percentage of shoes that consist of the color. Interestingly enough, pink and purple were dominated by women.  "
   ]
  },
  {
   "cell_type": "code",
   "id": "50798adc",
   "metadata": {},
   "source": [
    "category_percentage = pd.crosstab(shoes_fact[\"gender\"], shoes_fact[\"dominant_color\"], normalize=\"index\") * 100\n",
    "\n",
    "\n",
    "category_percentage.plot(figsize=(10, 6),kind=\"bar\", stacked=False, colormap=\"viridis\")\n",
    "\n",
    "plt.ylabel(\"Percentage\")\n",
    "plt.title(\"Percentage Distribution of dominant color within gender\")\n",
    "plt.legend(title=\"Color\")\n",
    "plt.show()"
   ],
   "outputs": [],
   "execution_count": null
  },
  {
   "cell_type": "code",
   "id": "82400d52",
   "metadata": {},
   "source": [
    "category_percentage"
   ],
   "outputs": [],
   "execution_count": null
  },
  {
   "cell_type": "markdown",
   "id": "2f477044",
   "metadata": {},
   "source": [
    "#### Better Visualization"
   ]
  },
  {
   "cell_type": "code",
   "id": "2ab646ea",
   "metadata": {},
   "source": [
    "category_percentage = pd.crosstab(shoes_fact[\"gender\"], shoes_fact[\"dominant_color\"], normalize=\"index\") * 100\n",
    "category_percentage = category_percentage.apply(lambda x: x.sort_values(ascending=False), axis=1)  # Sort within each gender\n",
    "\n",
    "num_genders = len(category_percentage)\n",
    "\n",
    "fig, axes = plt.subplots(2, 2, figsize=(16, 12), sharey=True)  \n",
    "axes = axes.flatten() \n",
    "\n",
    "\n",
    "for i, (gender, row) in enumerate(category_percentage.iterrows()):\n",
    "    sorted_row = row.sort_values(ascending=False)  \n",
    "    \n",
    "    sns.barplot(\n",
    "        x=sorted_row.index, \n",
    "        y=sorted_row.values, \n",
    "        ax=axes[i], \n",
    "        hue=sorted_row.index,  \n",
    "        palette=sns.color_palette(\"viridis\", len(sorted_row)),\n",
    "        legend=False  \n",
    "    )\n",
    "    \n",
    "    axes[i].set_title(f\"{gender} - Dominant Color Distribution\", fontsize=14, fontweight=\"bold\")\n",
    "    axes[i].set_ylabel(\"Percentage\")\n",
    "    axes[i].set_xlabel(\"Dominant Color\")\n",
    "    \n",
    "    axes[i].set_xticks(range(len(sorted_row.index)))\n",
    "    axes[i].set_xticklabels(sorted_row.index, rotation=45, ha=\"right\")  \n",
    "    axes[i].grid(axis=\"y\", linestyle=\"--\", alpha=0.5)\n",
    "\n",
    "for j in range(i + 1, len(axes)):\n",
    "    fig.delaxes(axes[j])\n",
    "\n",
    "plt.suptitle(\"Percentage Distribution of Dominant Colors Within Each Gender\", fontsize=18, fontweight=\"bold\")\n",
    "plt.tight_layout()\n",
    "plt.show()"
   ],
   "outputs": [],
   "execution_count": null
  },
  {
   "cell_type": "markdown",
   "id": "90b58f3c",
   "metadata": {},
   "source": [
    "All gender labels had a trend of black and white being most common. Gray is the next most common color for most of the labels except kids. Blue and brown are also relatively high up in frequency. "
   ]
  },
  {
   "cell_type": "markdown",
   "id": "bdda4a08",
   "metadata": {},
   "source": [
    "# Approach and Methodology\n",
    "\n"
   ]
  },
  {
   "cell_type": "markdown",
   "id": "ea8c2d89",
   "metadata": {},
   "source": [
    "### Exploratory Data Analysis (EDA) Insights and Interpretation\n",
    "\n",
    "The EDA provided insights into how the data is distributed. This helped us identify which features are most relevant for modeling and which ones might introduce bias or unnecessary complexity.\n",
    "\n",
    "Based on our **Exploratory Data Analysis (EDA)**, we concluded that **availability is not necessarily related to sales performance**. The availability of a shoe does not directly indicate its sales rate or popularity. **Availability** can be influenced by factors like stock management, production cycles, seasonal trends, and demand forecasting. \n",
    "\n",
    "We refined our goal to **predict the availability of a shoe** based on key features that may affect stock levels. Our model will focus on forecasting the **likelihood of a shoe being available**.\n",
    "\n",
    "### **Objective Refinement:**\n",
    "From the above, we concluded that the primary objective is to **predict the availability** of a shoe given various features and characteristics of the shoe itself. These features are expected to help determine if a shoe will likely be **in stock** or **out of stock**.\n",
    "\n",
    "\n"
   ]
  },
  {
   "cell_type": "markdown",
   "id": "3dac54cb",
   "metadata": {},
   "source": [
    "### **Feature Selection** (Decision Influence)\n",
    "\n",
    "| Feature          | Reason for Inclusion |\n",
    "|-----------------|----------------------|\n",
    "| `price`         | Shoe affordability impacts purchasing decisions. |\n",
    "| `category`      | Shoe type plays a key role in consumer preferences. |\n",
    "| `us_size`          | Availability varies by size, influencing stock levels. |\n",
    "| `gender`        | Men's and women's shoe preferences may differ. |\n",
    "| `dominant_color` | Certain colors might be more popular and sell out faster. |\n",
    "| `sub_color1`, `sub_color2` | These features are independent from the dominant color and are not correlated. |\n",
    "\n",
    "\n",
    "\n",
    "Other features were excluded due to redundancy, bias risk, or limited predictive power."
   ]
  },
  {
   "cell_type": "markdown",
   "id": "88fa3f9c",
   "metadata": {},
   "source": [
    "## Features to Exclude (Decision Influence)\n",
    "\n",
    "| Feature         | Reason for Exclusion |\n",
    "|----------------|----------------------|\n",
    "| `id`           | Unique identifier, not useful for prediction. |\n",
    "| `SN`           | Likely just a serial number, no predictive power. |\n",
    "| `name`         | Too specific and not generalizable. |\n",
    "| `currency`     |  Prices are standardized to euro, this is now unnecessary. |\n",
    "| `country_code` | Initially considered for feature selection, but excluded as the objective of the analysis is global, making regional availability irrelevant. |\n",
    "| `best_for_wear` | Since the \"Neutral\" category dominates, including it may introduce bias into the model. |\n"
   ]
  },
  {
   "cell_type": "markdown",
   "id": "ed1ad48f",
   "metadata": {},
   "source": [
    "# Modeling"
   ]
  },
  {
   "cell_type": "markdown",
   "id": "7e161695",
   "metadata": {},
   "source": [
    "## **Chosen Model:** \n",
    "\n",
    "1. **Random Forest** - We chose the **Random Forest** model due to its decision-tree-based structure, which aligns well with how consumers evaluate multiple features when selecting a shoe. Unlike linear models, **Random Forest can capture complex interactions** between categorical and numerical features, making it suitable for this type of prediction.\n",
    "\n",
    "    **Advantages of Random Forest for this dataset:**\n",
    "    - **Handles mixed data types well** (categorical and numerical).  \n",
    "    - **Robust to outliers and missing values**, which may exist in the dataset.  \n",
    "    - **Medium-speed performance** while maintaining **moderate to high accuracy** for structured data.  \n",
    "\n",
    "    While other models, such as decision trees, might provide similar interpretability, **Random Forest offers improved generalization** due to its ensemble nature, reducing the risk of overfitting.\n",
    "\n",
    "1. \n",
    "\n",
    "\n",
    "\n",
    "\n",
    "\n"
   ]
  },
  {
   "cell_type": "markdown",
   "id": "aa108457",
   "metadata": {},
   "source": [
    "## Random Forest"
   ]
  },
  {
   "cell_type": "markdown",
   "id": "8176d063",
   "metadata": {},
   "source": [
    "### Feature Selection and Ecoding\n"
   ]
  },
  {
   "cell_type": "code",
   "id": "f2eb2698",
   "metadata": {},
   "source": [
    "processed_shoes = shoes_fact.copy()\n",
    "\n",
    "categorical_columns = ['category', 'gender', 'dominant_color', \n",
    "                       'sub_color1', 'sub_color2', 'us_size']  # Removed excluded columns\n",
    "\n",
    "exclude_columns = ['availability', 'currency', 'country_code', 'name', 'best_for_wear', 'SN', 'id']\n",
    "\n",
    "label_encoder = LabelEncoder()\n",
    "\n",
    "for col in categorical_columns:\n",
    "    processed_shoes[col] = processed_shoes[col].fillna('unknown')\n",
    "    processed_shoes[col] = label_encoder.fit_transform(processed_shoes[col].astype(str))\n",
    "\n",
    "if 'availability' in processed_shoes.columns:\n",
    "    # Define X and y\n",
    "    X = processed_shoes.drop(columns=exclude_columns, errors='ignore')\n",
    "    y = processed_shoes['availability']\n",
    "    "
   ],
   "outputs": [],
   "execution_count": null
  },
  {
   "cell_type": "markdown",
   "id": "4ad54897",
   "metadata": {},
   "source": [
    "### Model Training"
   ]
  },
  {
   "cell_type": "code",
   "id": "b907a7d7",
   "metadata": {
    "ExecuteTime": {
     "end_time": "2025-04-01T21:53:26.917860Z",
     "start_time": "2025-04-01T21:53:12.889479Z"
    }
   },
   "source": [
    "X_train, X_test, y_train, y_test = train_test_split(X, y, test_size=0.3, random_state=42)\n",
    "\n",
    "print(f\"Training set size: {X_train.shape}\")\n",
    "print(f\"Test set size: {X_test.shape}\")\n",
    "\n",
    "# Train Random Forest model\n",
    "rf = RandomForestClassifier(n_estimators=100, random_state=42)\n",
    "rf.fit(X_train, y_train)\n",
    "\n",
    "feature_importances = pd.Series(rf.feature_importances_, index=X.columns)\n",
    "sorted_feature_importances = feature_importances.sort_values(ascending=False)\n",
    "\n",
    "plt.figure(figsize=(10, 6))\n",
    "sorted_feature_importances.plot(kind='barh', color='royalblue')\n",
    "plt.title('Feature Importance - Random Forest')\n",
    "plt.xlabel('Importance')\n",
    "plt.ylabel('Features')\n",
    "plt.grid(axis='x', linestyle='--', alpha=0.7)\n",
    "plt.tight_layout()\n",
    "plt.show()\n",
    "\n",
    "# Model Evaluation\n",
    "accuracy = rf.score(X_test, y_test)\n",
    "print(f\"\\nModel Accuracy: {accuracy:.4f}\")"
   ],
   "outputs": [
    {
     "name": "stdout",
     "output_type": "stream",
     "text": [
      "Training set size: (209409, 7)\n",
      "Test set size: (89747, 7)\n"
     ]
    },
    {
     "data": {
      "text/plain": [
       "<Figure size 1000x600 with 1 Axes>"
      ],
      "image/png": "[encoded data removed]"
     },
     "metadata": {},
     "output_type": "display_data"
    },
    {
     "name": "stdout",
     "output_type": "stream",
     "text": [
      "\n",
      "Model Accuracy: 0.7913\n"
     ]
    }
   ],
   "execution_count": 122
  },
  {
   "metadata": {
    "ExecuteTime": {
     "end_time": "2025-04-01T21:53:27.158663Z",
     "start_time": "2025-04-01T21:53:26.919470Z"
    }
   },
   "cell_type": "code",
   "source": [
    "from sklearn.ensemble import RandomForestRegressor\n",
    "from sklearn.metrics import mean_absolute_error, r2_score\n",
    "\n",
    "# Aggregate total availability per shoe category\n",
    "category_demand = shoes_fact.groupby('category')['availability'].sum().sort_values(ascending=False)\n",
    "\n",
    "# Plot category demand\n",
    "plt.figure(figsize=(10, 6))\n",
    "category_demand.plot(kind='bar', color='royalblue')\n",
    "plt.title('Category Demand - Weighted by Availability')\n",
    "plt.xlabel('Shoe Category')\n",
    "plt.ylabel('Total Availability')\n",
    "plt.xticks(rotation=45)\n",
    "plt.grid(axis='y', linestyle='--', alpha=0.7)\n",
    "plt.show()\n",
    "\n",
    "# Analyze country-based availability trends\n",
    "country_trends = shoes_fact.groupby('country_code')['availability'].sum().sort_values(ascending=False)\n",
    "\n",
    "# Plot country-based trends\n",
    "plt.figure(figsize=(10, 6))\n",
    "sns.barplot(x=country_trends.index, y=country_trends.values, palette='coolwarm')\n",
    "plt.title('Availability Trends by Country')\n",
    "plt.xlabel('Country Code')\n",
    "plt.ylabel('Total Availability')\n",
    "plt.grid(axis='y', linestyle='--', alpha=0.7)\n",
    "plt.show()"
   ],
   "id": "3267b84dcbc8ced5",
   "outputs": [
    {
     "data": {
      "text/plain": [
       "<Figure size 1000x600 with 1 Axes>"
      ],
      "image/png": "[encoded data removed]"
     },
     "metadata": {},
     "output_type": "display_data"
    },
    {
     "data": {
      "text/plain": [
       "<Figure size 1000x600 with 1 Axes>"
      ],
      "image/png": "[encoded data removed]"
     },
     "metadata": {},
     "output_type": "display_data"
    }
   ],
   "execution_count": 123
  },
  {
   "metadata": {
    "ExecuteTime": {
     "end_time": "2025-04-01T21:56:12.000588Z",
     "start_time": "2025-04-01T21:56:11.988915Z"
    }
   },
   "cell_type": "code",
   "source": "from sklearn.linear_model import LinearRegression\n",
   "id": "c427776f410f536c",
   "outputs": [],
   "execution_count": 127
  },
  {
   "metadata": {
    "ExecuteTime": {
     "end_time": "2025-04-01T21:56:13.415021Z",
     "start_time": "2025-04-01T21:56:12.927424Z"
    }
   },
   "cell_type": "code",
   "source": [
    "# Stock Forecasting - Predicting time until stockout\n",
    "shoes_fact['days_since_listed'] = (pd.to_datetime('today') - pd.to_datetime(shoes_fact['date'], dayfirst=True)).dt.days\n",
    "shoes_fact['days_until_stockout'] = shoes_fact['availability'] / (shoes_fact['days_since_listed'] + 1)  # Avoid division by zero\n",
    "\n",
    "# Prepare dataset for modeling\n",
    "features = ['category', 'price', 'country_code', 'availability', 'days_since_listed']\n",
    "target = 'days_until_stockout'\n",
    "\n",
    "# Convert categorical features to numerical using one-hot encoding\n",
    "df_model = pd.get_dummies(shoes_fact[features + [target]], columns=['category', 'country_code'], drop_first=True)\n",
    "\n",
    "# Train-test split\n",
    "X = df_model.drop(columns=[target])\n",
    "y = df_model[target]\n",
    "X_train, X_test, y_train, y_test = train_test_split(X, y, test_size=0.3, random_state=42)\n",
    "\n",
    "# Train Linear Regression Model\n",
    "lr_model = LinearRegression()\n",
    "lr_model.fit(X_train, y_train)\n",
    "\n",
    "# Model Evaluation\n",
    "y_pred = lr_model.predict(X_test)\n",
    "mae = mean_absolute_error(y_test, y_pred)\n",
    "r2 = r2_score(y_test, y_pred)\n",
    "\n",
    "print(f\"Mean Absolute Error: {mae:.2f} days\")\n",
    "print(f\"R-squared Score: {r2:.4f}\")\n",
    "\n",
    "# Predict top 10 fastest-moving shoes\n",
    "shoes_fact['predicted_days_until_stockout'] = lr_model.predict(X)\n",
    "fast_moving = shoes_fact[['id', 'category', 'predicted_days_until_stockout']].sort_values(by='predicted_days_until_stockout', ascending=True).head(10)\n",
    "\n",
    "print(\"Top 10 Fastest Moving Shoes (Predicted):\")\n",
    "print(fast_moving.to_string(index=False))"
   ],
   "id": "2a05c021a8322585",
   "outputs": [
    {
     "name": "stdout",
     "output_type": "stream",
     "text": [
      "Mean Absolute Error: 0.00 days\n",
      "R-squared Score: 0.9987\n",
      "Top 10 Fastest Moving Shoes (Predicted):\n",
      "    id           category  predicted_days_until_stockout\n",
      "GY8926 gym_training-shoes                      -0.004732\n",
      "GY8926 gym_training-shoes                      -0.004732\n",
      "GY8926 gym_training-shoes                      -0.004732\n",
      "GY8926 gym_training-shoes                      -0.004732\n",
      "GY8926 gym_training-shoes                      -0.004732\n",
      "GY8926 gym_training-shoes                      -0.004732\n",
      "IH8233 gym_training-shoes                      -0.004732\n",
      "IH8232 gym_training-shoes                      -0.004732\n",
      "IH8232 gym_training-shoes                      -0.004732\n",
      "IH8232 gym_training-shoes                      -0.004732\n"
     ]
    }
   ],
   "execution_count": 128
  },
  {
   "metadata": {
    "ExecuteTime": {
     "end_time": "2025-04-01T21:57:01.041441Z",
     "start_time": "2025-04-01T21:57:00.254447Z"
    }
   },
   "cell_type": "code",
   "source": [
    "# Plot feature importance\n",
    "plt.figure(figsize=(10, 6))\n",
    "plt.barh(X.columns, lr_model.coef_, color='royalblue')\n",
    "plt.xlabel(\"Coefficient Value\")\n",
    "plt.ylabel(\"Features\")\n",
    "plt.title(\"Feature Importance - Linear Regression\")\n",
    "plt.grid(axis='x', linestyle='--', alpha=0.7)\n",
    "plt.show()\n",
    "\n",
    "# Plot predicted vs actual values\n",
    "plt.figure(figsize=(8, 6))\n",
    "plt.scatter(y_test, y_pred, color='royalblue', alpha=0.6)\n",
    "plt.plot([y_test.min(), y_test.max()], [y_test.min(), y_test.max()], 'r--')\n",
    "plt.xlabel(\"Actual Days Until Stockout\")\n",
    "plt.ylabel(\"Predicted Days Until Stockout\")\n",
    "plt.title(\"Predicted vs Actual Days Until Stockout\")\n",
    "plt.grid(True)\n",
    "plt.show()"
   ],
   "id": "4a6716062070dcbe",
   "outputs": [
    {
     "data": {
      "text/plain": [
       "<Figure size 1000x600 with 1 Axes>"
      ],
      "image/png": "[encoded data removed]"
     },
     "metadata": {},
     "output_type": "display_data"
    },
    {
     "data": {
      "text/plain": [
       "<Figure size 800x600 with 1 Axes>"
      ],
      "image/png": "[encoded data removed]"
     },
     "metadata": {},
     "output_type": "display_data"
    }
   ],
   "execution_count": 129
  }
 ],
 "metadata": {
  "kernelspec": {
   "display_name": "Python 3",
   "language": "python",
   "name": "python3"
  },
  "language_info": {
   "codemirror_mode": {
    "name": "ipython",
    "version": 3
   },
   "file_extension": ".py",
   "mimetype": "text/x-python",
   "name": "python",
   "nbconvert_exporter": "python",
   "pygments_lexer": "ipython3",
   "version": "3.13.0"
  }
 },
 "nbformat": 4,
 "nbformat_minor": 5
}
