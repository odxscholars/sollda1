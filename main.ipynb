{
 "cells": [
  {
   "metadata": {},
   "cell_type": "markdown",
   "source": "# SOLLDA1",
   "id": "8ca185dca8cd6b0d"
  },
  {
   "metadata": {},
   "cell_type": "markdown",
   "source": "### Loading Adidas dataset",
   "id": "43fa319118fe9854"
  },
  {
   "metadata": {
    "ExecuteTime": {
     "end_time": "2025-02-19T12:26:27.695753Z",
     "start_time": "2025-02-19T12:26:27.487083Z"
    }
   },
   "cell_type": "code",
   "source": [
    "import pandas as pd\n",
    "import numpy as np\n",
    "import matplotlib.pyplot as plt\n",
    "dataset_dir = \"dataset/\"\n",
    "country_dim = pd.read_csv(dataset_dir + \"country_dim.csv\")\n",
    "shoes_dim = pd.read_csv(dataset_dir + \"shoes_dim.csv\")\n",
    "shoes_fact = pd.read_csv(dataset_dir + \"shoes_fact.csv\")"
   ],
   "id": "cfc9bb7ada051f1c",
   "outputs": [],
   "execution_count": 3
  },
  {
   "metadata": {},
   "cell_type": "code",
   "outputs": [],
   "execution_count": null,
   "source": "",
   "id": "39d11f1638e564e5"
  }
 ],
 "metadata": {
  "kernelspec": {
   "display_name": "Python 3",
   "language": "python",
   "name": "python3"
  },
  "language_info": {
   "codemirror_mode": {
    "name": "ipython",
    "version": 2
   },
   "file_extension": ".py",
   "mimetype": "text/x-python",
   "name": "python",
   "nbconvert_exporter": "python",
   "pygments_lexer": "ipython2",
   "version": "2.7.6"
  }
 },
 "nbformat": 4,
 "nbformat_minor": 5
}
